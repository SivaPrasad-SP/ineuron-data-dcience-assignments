{
 "cells": [
  {
   "cell_type": "markdown",
   "id": "2ce961bc",
   "metadata": {},
   "source": [
    "#### 1. What are the new features added in Python 3.8 version ?"
   ]
  },
  {
   "cell_type": "markdown",
   "id": "5e330bca",
   "metadata": {},
   "source": [
    "* Some extra features of Python 3.8 that are helpful to me in are :\n",
    "\n",
    "1. `Assignment Expression (Walrus operator)` : meaning Assign and evaluate at a time, very interesting and useful too.\n",
    "\n",
    "\n",
    "2. `Positional-only parameters` : There is a new function parameter syntax / to indicate that some function parameters must be specified positionally and cannot be used as keyword arguments.\n",
    "    * please check the below 2nd example\n",
    "\n",
    "\n",
    "3. `Defining More Precise Types` : Python supports optional type hints, typically as annotations on your code\n",
    "    * But they are not like restruction, just like annotations, read only\n",
    "\n",
    "\n",
    "4. Python 3.8 is the `new f-string debugging specifier`. You can now add = at the end of an expression, and it will print both the expression and its value\n",
    "    * refer below code block for examples of python 3.8 features : "
   ]
  },
  {
   "cell_type": "code",
   "execution_count": 50,
   "id": "78852a95",
   "metadata": {},
   "outputs": [
    {
     "name": "stdout",
     "output_type": "stream",
     "text": [
      "1.  5 \n",
      "\n",
      "2.  [1, 2, 3] [4, 5] 6 7 8 9 \n",
      "\n",
      "3.  4.6 \n",
      "\n",
      "4. 3.8\n",
      "   python=3.8\n"
     ]
    }
   ],
   "source": [
    "# 1. Assignment Expression (Walrus operator)\n",
    "if (a := 5) > 1:  # assigned and compared\n",
    "    print(\"1. \", a, \"\\n\")\n",
    "\n",
    "# 2. Positional-only parameters\n",
    "def fun(a, b, /, c, d, *, e, f):\n",
    "    print(\"2. \", a, b, c, d, e, f, \"\\n\")\n",
    "fun([1,2,3],[4,5], 6,d=7, e=8,f=9)  # first 2 should be position, next 2 can be any, & last tow should be kwargs\n",
    "\n",
    "# 3. Defining More Precise Types\n",
    "def double_(number: float) -> float:\n",
    "    return 2 * number\n",
    "print(\"3. \", double_(2.3), \"\\n\")\n",
    "\n",
    "# 4. extra feature of print\n",
    "python = 3.8\n",
    "print(f\"4. {python}\")\n",
    "print(f\"   {python=}\")  # prints variable name, =, & value"
   ]
  },
  {
   "cell_type": "markdown",
   "id": "1359966e",
   "metadata": {},
   "source": [
    "#### 2. What is monkey patching in Python ?"
   ]
  },
  {
   "cell_type": "markdown",
   "id": "7ab81045",
   "metadata": {},
   "source": [
    "* Monkey patching is a technique to add, modify, or suppress the default behavior of a piece of code at runtime without changing its original source code.\n",
    "\n",
    "* As python functions are like a any other object in python, A method can be assigned to other. So, in run-time the assigned method acts like a original existed method.\n",
    "\n",
    "* for eg :"
   ]
  },
  {
   "cell_type": "markdown",
   "id": "84252347",
   "metadata": {},
   "source": [
    "#### 3. What is the difference between a shallow copy and deep copy ?"
   ]
  },
  {
   "cell_type": "markdown",
   "id": "4f3cc22a",
   "metadata": {},
   "source": [
    "* shallow copy : list_a = list_b\n",
    "    It only assigns the reference of one list to other. modifications of one list doesn't affect the other\n",
    "    \n",
    "* deep copy : list_a = list_b.deep_copy()\n",
    "    The whole list items are created in seperate memory locations, so a new copy of list is assigned to list_b. So, any modifications of one list doesn't affect the other"
   ]
  },
  {
   "cell_type": "code",
   "execution_count": 13,
   "id": "486a23e5",
   "metadata": {},
   "outputs": [
    {
     "name": "stdout",
     "output_type": "stream",
     "text": [
      "Printing sum of [1, 2, 3] before monkey-patching : 6\n",
      "Printing sum of [1, 2, 3] after monkey-patching : 1,2,3\n"
     ]
    }
   ],
   "source": [
    "import numpy as np\n",
    "\n",
    "arr = [1,2,3]\n",
    "\n",
    "print(f\"Printing sum of {arr} before monkey-patching : {np.sum(arr)}\")\n",
    "\n",
    "def add_list(arr):\n",
    "    return ','.join(map(str, arr))\n",
    "\n",
    "np.sum = mul_  # assigning new method to default numpy method\n",
    "\n",
    "print(f\"Printing sum of {arr} after monkey-patching : {np.sum(arr)}\")"
   ]
  },
  {
   "cell_type": "markdown",
   "id": "c272745d",
   "metadata": {},
   "source": [
    "* Here I have change the defualt behaviour if numpy sum function, it is changed on run-time."
   ]
  },
  {
   "cell_type": "markdown",
   "id": "551b39b6",
   "metadata": {},
   "source": [
    "#### 4. What is the maximum possible length of an identifier ?"
   ]
  },
  {
   "cell_type": "markdown",
   "id": "e2eff9b4",
   "metadata": {},
   "source": [
    "* Identifier is a name used to identify a variable, function, class, module, etc.\n",
    "* An identifier can have a maximum length of 79 characters in Python."
   ]
  },
  {
   "cell_type": "markdown",
   "id": "f66964ee",
   "metadata": {},
   "source": [
    "#### 5. What is generator comprehension ?"
   ]
  },
  {
   "cell_type": "markdown",
   "id": "12f4e9ae",
   "metadata": {},
   "source": [
    "* A generator packs few values and return/yield the values one by one, it is memory efficient, as it doesn't create a seperate memory for the elements of it, once the generator values are utilized it will exhaust.\n",
    "* generator comprehension is similar to list comprehension, but generator comprehension returns a generator object. We have to yield values one by one to unpack the elements of it."
   ]
  },
  {
   "cell_type": "code",
   "execution_count": 19,
   "id": "bad39f93",
   "metadata": {},
   "outputs": [
    {
     "name": "stdout",
     "output_type": "stream",
     "text": [
      "[0, 2, 4, 6, 8]\n",
      "<generator object <genexpr> at 0x0000028E56D63B30>\n"
     ]
    }
   ],
   "source": [
    "# list comprehension\n",
    "even_list = [i for i in range(10) if i%2 == 0]\n",
    "print(even_list)\n",
    "\n",
    "even_list_gen = (i for i in range(10) if i%2 == 0)\n",
    "print(even_list_gen)"
   ]
  },
  {
   "cell_type": "code",
   "execution_count": 20,
   "id": "f2c1e1a6",
   "metadata": {},
   "outputs": [
    {
     "name": "stdout",
     "output_type": "stream",
     "text": [
      "0\n",
      "2\n",
      "4\n"
     ]
    }
   ],
   "source": [
    "print(next(even_list_gen))\n",
    "print(next(even_list_gen))\n",
    "print(next(even_list_gen))"
   ]
  },
  {
   "cell_type": "code",
   "execution_count": 21,
   "id": "97237750",
   "metadata": {},
   "outputs": [
    {
     "name": "stdout",
     "output_type": "stream",
     "text": [
      "6\n",
      "8\n"
     ]
    },
    {
     "ename": "StopIteration",
     "evalue": "",
     "output_type": "error",
     "traceback": [
      "\u001b[1;31m---------------------------------------------------------------------------\u001b[0m",
      "\u001b[1;31mStopIteration\u001b[0m                             Traceback (most recent call last)",
      "\u001b[1;32mC:\\Users\\SARATH~1.LOT\\AppData\\Local\\Temp/ipykernel_628/579889038.py\u001b[0m in \u001b[0;36m<module>\u001b[1;34m\u001b[0m\n\u001b[0;32m      1\u001b[0m \u001b[0mprint\u001b[0m\u001b[1;33m(\u001b[0m\u001b[0mnext\u001b[0m\u001b[1;33m(\u001b[0m\u001b[0meven_list_gen\u001b[0m\u001b[1;33m)\u001b[0m\u001b[1;33m)\u001b[0m\u001b[1;33m\u001b[0m\u001b[1;33m\u001b[0m\u001b[0m\n\u001b[0;32m      2\u001b[0m \u001b[0mprint\u001b[0m\u001b[1;33m(\u001b[0m\u001b[0mnext\u001b[0m\u001b[1;33m(\u001b[0m\u001b[0meven_list_gen\u001b[0m\u001b[1;33m)\u001b[0m\u001b[1;33m)\u001b[0m\u001b[1;33m\u001b[0m\u001b[1;33m\u001b[0m\u001b[0m\n\u001b[1;32m----> 3\u001b[1;33m \u001b[0mprint\u001b[0m\u001b[1;33m(\u001b[0m\u001b[0mnext\u001b[0m\u001b[1;33m(\u001b[0m\u001b[0meven_list_gen\u001b[0m\u001b[1;33m)\u001b[0m\u001b[1;33m)\u001b[0m\u001b[1;33m\u001b[0m\u001b[1;33m\u001b[0m\u001b[0m\n\u001b[0m",
      "\u001b[1;31mStopIteration\u001b[0m: "
     ]
    }
   ],
   "source": [
    "print(next(even_list_gen))\n",
    "print(next(even_list_gen))\n",
    "print(next(even_list_gen))  # this will throw error, as the generator exhausts."
   ]
  }
 ],
 "metadata": {
  "kernelspec": {
   "display_name": "Python 3 (ipykernel)",
   "language": "python",
   "name": "python3"
  },
  "language_info": {
   "codemirror_mode": {
    "name": "ipython",
    "version": 3
   },
   "file_extension": ".py",
   "mimetype": "text/x-python",
   "name": "python",
   "nbconvert_exporter": "python",
   "pygments_lexer": "ipython3",
   "version": "3.9.2"
  }
 },
 "nbformat": 4,
 "nbformat_minor": 5
}
