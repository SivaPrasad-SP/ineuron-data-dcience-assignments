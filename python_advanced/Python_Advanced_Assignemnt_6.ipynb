{
 "cells": [
  {
   "cell_type": "markdown",
   "id": "735ec597",
   "metadata": {},
   "source": [
    "#### Q1. Describe three applications for exception processing."
   ]
  },
  {
   "cell_type": "markdown",
   "id": "8fb4f9be",
   "metadata": {},
   "source": [
    "* Exception handling is useful when runtime errors are raised, few situations whare Exception handling can be used are :\n",
    "\n",
    "1. ZeroDivisionError : When the program try to divide something by 0  \n",
    "2. ImportError : Importing a module which doesn't exist in python\n",
    "3. FileNotFoundError : while opening a file that doesnot exists"
   ]
  },
  {
   "cell_type": "markdown",
   "id": "cd6f9b37",
   "metadata": {},
   "source": [
    "#### Q2. What happens if you don't do something extra to treat an exception ?"
   ]
  },
  {
   "cell_type": "markdown",
   "id": "88d29575",
   "metadata": {},
   "source": [
    "* If we doesn't handle the exception properly, the program will be terminated at the line where the exception is raised."
   ]
  },
  {
   "cell_type": "markdown",
   "id": "a81278cd",
   "metadata": {},
   "source": [
    "#### Q3. What are your options for recovering from an exception in your script ?"
   ]
  },
  {
   "cell_type": "markdown",
   "id": "d6c43bb4",
   "metadata": {},
   "source": [
    "* We have to place the code in `try` block, which might raise exception.\n",
    "* On exception, we can use python built-in exceptions like ImportError, FileNotFoundError, etc.\n",
    "* If we didn't find suitable built-in exception, we can do our needful in python's default `except` block."
   ]
  },
  {
   "cell_type": "markdown",
   "id": "bf7de651",
   "metadata": {},
   "source": [
    "#### Q4. Describe two methods for triggering exceptions in your script."
   ]
  },
  {
   "cell_type": "code",
   "execution_count": 16,
   "id": "31c11363",
   "metadata": {},
   "outputs": [
    {
     "ename": "Exception",
     "evalue": "Can't divide with zero",
     "output_type": "error",
     "traceback": [
      "\u001b[1;31m---------------------------------------------------------------------------\u001b[0m",
      "\u001b[1;31mException\u001b[0m                                 Traceback (most recent call last)",
      "\u001b[1;32mC:\\Users\\SARATH~1.LOT\\AppData\\Local\\Temp/ipykernel_10708/176979767.py\u001b[0m in \u001b[0;36m<module>\u001b[1;34m\u001b[0m\n\u001b[0;32m      6\u001b[0m     \u001b[1;32mreturn\u001b[0m \u001b[0mnum\u001b[0m\u001b[1;33m/\u001b[0m\u001b[0mdenum\u001b[0m\u001b[1;33m\u001b[0m\u001b[1;33m\u001b[0m\u001b[0m\n\u001b[0;32m      7\u001b[0m \u001b[1;33m\u001b[0m\u001b[0m\n\u001b[1;32m----> 8\u001b[1;33m \u001b[0mdivide\u001b[0m\u001b[1;33m(\u001b[0m\u001b[1;36m2\u001b[0m\u001b[1;33m,\u001b[0m \u001b[1;36m0\u001b[0m\u001b[1;33m)\u001b[0m\u001b[1;33m\u001b[0m\u001b[1;33m\u001b[0m\u001b[0m\n\u001b[0m",
      "\u001b[1;32mC:\\Users\\SARATH~1.LOT\\AppData\\Local\\Temp/ipykernel_10708/176979767.py\u001b[0m in \u001b[0;36mdivide\u001b[1;34m(num, denum)\u001b[0m\n\u001b[0;32m      3\u001b[0m \u001b[1;32mdef\u001b[0m \u001b[0mdivide\u001b[0m\u001b[1;33m(\u001b[0m\u001b[0mnum\u001b[0m\u001b[1;33m,\u001b[0m \u001b[0mdenum\u001b[0m\u001b[1;33m)\u001b[0m\u001b[1;33m:\u001b[0m\u001b[1;33m\u001b[0m\u001b[1;33m\u001b[0m\u001b[0m\n\u001b[0;32m      4\u001b[0m     \u001b[1;32mif\u001b[0m \u001b[0mdenum\u001b[0m \u001b[1;33m==\u001b[0m \u001b[1;36m0\u001b[0m\u001b[1;33m:\u001b[0m\u001b[1;33m\u001b[0m\u001b[1;33m\u001b[0m\u001b[0m\n\u001b[1;32m----> 5\u001b[1;33m         \u001b[1;32mraise\u001b[0m\u001b[1;33m(\u001b[0m\u001b[0mException\u001b[0m\u001b[1;33m(\u001b[0m\u001b[1;34m\"Can't divide with zero\"\u001b[0m\u001b[1;33m)\u001b[0m\u001b[1;33m)\u001b[0m\u001b[1;33m\u001b[0m\u001b[1;33m\u001b[0m\u001b[0m\n\u001b[0m\u001b[0;32m      6\u001b[0m     \u001b[1;32mreturn\u001b[0m \u001b[0mnum\u001b[0m\u001b[1;33m/\u001b[0m\u001b[0mdenum\u001b[0m\u001b[1;33m\u001b[0m\u001b[1;33m\u001b[0m\u001b[0m\n\u001b[0;32m      7\u001b[0m \u001b[1;33m\u001b[0m\u001b[0m\n",
      "\u001b[1;31mException\u001b[0m: Can't divide with zero"
     ]
    }
   ],
   "source": [
    "# 1. Trigger exception using raise keyword.\n",
    "\n",
    "def divide(num, denum):\n",
    "    if denum == 0:\n",
    "        raise(Exception(\"Can't divide with zero\"))\n",
    "    return num/denum\n",
    "\n",
    "divide(2, 0)"
   ]
  },
  {
   "cell_type": "code",
   "execution_count": 15,
   "id": "fe84b06c",
   "metadata": {},
   "outputs": [
    {
     "ename": "AssertionError",
     "evalue": "2*a is not 2a in Python",
     "output_type": "error",
     "traceback": [
      "\u001b[1;31m---------------------------------------------------------------------------\u001b[0m",
      "\u001b[1;31mAssertionError\u001b[0m                            Traceback (most recent call last)",
      "\u001b[1;32mC:\\Users\\SARATH~1.LOT\\AppData\\Local\\Temp/ipykernel_10708/2838129689.py\u001b[0m in \u001b[0;36m<module>\u001b[1;34m\u001b[0m\n\u001b[0;32m      1\u001b[0m \u001b[1;31m# 2. Trigger exception using assert keyword.\u001b[0m\u001b[1;33m\u001b[0m\u001b[1;33m\u001b[0m\u001b[1;33m\u001b[0m\u001b[0m\n\u001b[0;32m      2\u001b[0m \u001b[1;33m\u001b[0m\u001b[0m\n\u001b[1;32m----> 3\u001b[1;33m \u001b[1;32massert\u001b[0m \u001b[1;34m'a'\u001b[0m\u001b[1;33m*\u001b[0m\u001b[1;36m2\u001b[0m \u001b[1;33m==\u001b[0m \u001b[1;34m'2a'\u001b[0m\u001b[1;33m,\u001b[0m \u001b[1;34m\"2*a is not 2a in Python\"\u001b[0m\u001b[1;33m\u001b[0m\u001b[1;33m\u001b[0m\u001b[0m\n\u001b[0m",
      "\u001b[1;31mAssertionError\u001b[0m: 2*a is not 2a in Python"
     ]
    }
   ],
   "source": [
    "# 2. Trigger exception using assert keyword.\n",
    "\n",
    "assert 'a'*2 == '2a', \"2*a is not 2a in Python\""
   ]
  },
  {
   "cell_type": "markdown",
   "id": "c39a766b",
   "metadata": {},
   "source": [
    "#### Q5. Identify two methods for specifying actions to be executed at termination time, regardless of whether or not an exception exists."
   ]
  },
  {
   "cell_type": "markdown",
   "id": "2f3947e4",
   "metadata": {},
   "source": [
    "The program control goes to `except` block if there is any exception, if not the control goes to `else` block.\n",
    "Regardless of exception, the `finally` block gets control every time. "
   ]
  }
 ],
 "metadata": {
  "kernelspec": {
   "display_name": "Python 3 (ipykernel)",
   "language": "python",
   "name": "python3"
  },
  "language_info": {
   "codemirror_mode": {
    "name": "ipython",
    "version": 3
   },
   "file_extension": ".py",
   "mimetype": "text/x-python",
   "name": "python",
   "nbconvert_exporter": "python",
   "pygments_lexer": "ipython3",
   "version": "3.9.2"
  }
 },
 "nbformat": 4,
 "nbformat_minor": 5
}
