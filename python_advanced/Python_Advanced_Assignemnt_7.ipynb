{
 "cells": [
  {
   "cell_type": "markdown",
   "id": "16393856",
   "metadata": {},
   "source": [
    "#### Q1. What is the purpose of the try statement ?"
   ]
  },
  {
   "cell_type": "markdown",
   "id": "9b6dfabf",
   "metadata": {},
   "source": [
    "`try` statement along with except, used for exception handling in python. try block contains statements, if any of those statements raises error, then the control of the program shifts to except block without stopping the program execution. The except block is capable of handling different type of known errors, else we can print the base exception error.\n",
    "\n",
    "see the example below : "
   ]
  },
  {
   "cell_type": "code",
   "execution_count": 14,
   "id": "6a4394b9",
   "metadata": {},
   "outputs": [
    {
     "name": "stdout",
     "output_type": "stream",
     "text": [
      "Division of 5.4 with 2 is : 2.7\n",
      "Type Exception : Provide decimal numbers only..\n",
      "Error :  division by zero\n"
     ]
    }
   ],
   "source": [
    "def divide(a, b):\n",
    "    try:\n",
    "        print(f\"Division of {a} with {b} is : {a/b}\")\n",
    "    except TypeError:\n",
    "        print('Type Exception : Provide decimal numbers only..')\n",
    "    except BaseException as e:\n",
    "        print('Error : ', str(e))\n",
    "\n",
    "divide(5.4, 2)\n",
    "divide(3, '5')\n",
    "divide(9, 0)"
   ]
  },
  {
   "cell_type": "markdown",
   "id": "cb32b391",
   "metadata": {},
   "source": [
    "#### Q2. What are the two most popular try statement variations ?"
   ]
  },
  {
   "cell_type": "markdown",
   "id": "07a01ce6",
   "metadata": {},
   "source": [
    "We can use try & except.\n",
    "We have option use else, and finally along with try & except.\n",
    "\n",
    "\n",
    "* try: tries to excecute statements in try block.\n",
    "* except : if try fails to execute, the except handles it\n",
    "* else : it gets control if there is no exception, i.e is try is run without error.\n",
    "* finally : it gets executed all the time, doesnot depend on either of the above 3."
   ]
  },
  {
   "cell_type": "markdown",
   "id": "ccb28273",
   "metadata": {},
   "source": [
    "#### Q3. What is the purpose of the raise statement ?"
   ]
  },
  {
   "cell_type": "code",
   "execution_count": 21,
   "id": "2fc28aae",
   "metadata": {},
   "outputs": [
    {
     "name": "stdout",
     "output_type": "stream",
     "text": [
      "5 is integer\n"
     ]
    },
    {
     "ename": "Exception",
     "evalue": "SivaPrasad doesn't allow non-integers to this function",
     "output_type": "error",
     "traceback": [
      "\u001b[1;31m---------------------------------------------------------------------------\u001b[0m",
      "\u001b[1;31mException\u001b[0m                                 Traceback (most recent call last)",
      "\u001b[1;32mC:\\Users\\SARATH~1.LOT\\AppData\\Local\\Temp/ipykernel_11692/805779565.py\u001b[0m in \u001b[0;36m<module>\u001b[1;34m\u001b[0m\n\u001b[0;32m      7\u001b[0m \u001b[0mallow_integer\u001b[0m\u001b[1;33m(\u001b[0m\u001b[1;36m5\u001b[0m\u001b[1;33m)\u001b[0m\u001b[1;33m\u001b[0m\u001b[1;33m\u001b[0m\u001b[0m\n\u001b[0;32m      8\u001b[0m \u001b[1;31m# allow_integer('x')\u001b[0m\u001b[1;33m\u001b[0m\u001b[1;33m\u001b[0m\u001b[1;33m\u001b[0m\u001b[0m\n\u001b[1;32m----> 9\u001b[1;33m \u001b[0mallow_integer\u001b[0m\u001b[1;33m(\u001b[0m\u001b[1;36m8.0\u001b[0m\u001b[1;33m)\u001b[0m\u001b[1;33m\u001b[0m\u001b[1;33m\u001b[0m\u001b[0m\n\u001b[0m",
      "\u001b[1;32mC:\\Users\\SARATH~1.LOT\\AppData\\Local\\Temp/ipykernel_11692/805779565.py\u001b[0m in \u001b[0;36mallow_integer\u001b[1;34m(n)\u001b[0m\n\u001b[0;32m      3\u001b[0m         \u001b[0mprint\u001b[0m\u001b[1;33m(\u001b[0m\u001b[1;34mf\"{n} is integer\"\u001b[0m\u001b[1;33m)\u001b[0m\u001b[1;33m\u001b[0m\u001b[1;33m\u001b[0m\u001b[0m\n\u001b[0;32m      4\u001b[0m     \u001b[1;32melse\u001b[0m\u001b[1;33m:\u001b[0m\u001b[1;33m\u001b[0m\u001b[1;33m\u001b[0m\u001b[0m\n\u001b[1;32m----> 5\u001b[1;33m         \u001b[1;32mraise\u001b[0m \u001b[0mException\u001b[0m\u001b[1;33m(\u001b[0m\u001b[1;34m\"SivaPrasad doesn't allow non-integers to this function\"\u001b[0m\u001b[1;33m)\u001b[0m\u001b[1;33m\u001b[0m\u001b[1;33m\u001b[0m\u001b[0m\n\u001b[0m\u001b[0;32m      6\u001b[0m \u001b[1;33m\u001b[0m\u001b[0m\n\u001b[0;32m      7\u001b[0m \u001b[0mallow_integer\u001b[0m\u001b[1;33m(\u001b[0m\u001b[1;36m5\u001b[0m\u001b[1;33m)\u001b[0m\u001b[1;33m\u001b[0m\u001b[1;33m\u001b[0m\u001b[0m\n",
      "\u001b[1;31mException\u001b[0m: SivaPrasad doesn't allow non-integers to this function"
     ]
    }
   ],
   "source": [
    "def allow_integer(n):\n",
    "    if isinstance(n, int):\n",
    "        print(f\"{n} is integer\")\n",
    "    else:\n",
    "        raise Exception(\"SivaPrasad doesn't allow non-integers to this function\")\n",
    "\n",
    "allow_integer(5)\n",
    "# allow_integer('x')\n",
    "allow_integer(8.0)"
   ]
  },
  {
   "cell_type": "markdown",
   "id": "0ec99443",
   "metadata": {},
   "source": [
    "#### Q4. What does the assert statement do, and what other statement is it like ?"
   ]
  },
  {
   "cell_type": "markdown",
   "id": "fd504525",
   "metadata": {},
   "source": [
    "* The assert keyword lets you test if a condition in your code returns True, if not, the program will raise an AssertionError.\n",
    "* We can add message on assert condition, if it returns False."
   ]
  },
  {
   "cell_type": "code",
   "execution_count": 29,
   "id": "a1b0362e",
   "metadata": {},
   "outputs": [],
   "source": [
    "# if the assert condition is True, it doesn't raise exception.\n",
    "n = 5\n",
    "assert isinstance(n, int), f\"n shoud be interger, {n} is not allowed.\""
   ]
  },
  {
   "cell_type": "code",
   "execution_count": 30,
   "id": "1dc9ffdc",
   "metadata": {},
   "outputs": [
    {
     "ename": "AssertionError",
     "evalue": "n shoud be interger, e is not allowed.",
     "output_type": "error",
     "traceback": [
      "\u001b[1;31m---------------------------------------------------------------------------\u001b[0m",
      "\u001b[1;31mAssertionError\u001b[0m                            Traceback (most recent call last)",
      "\u001b[1;32mC:\\Users\\SARATH~1.LOT\\AppData\\Local\\Temp/ipykernel_11692/2761318365.py\u001b[0m in \u001b[0;36m<module>\u001b[1;34m\u001b[0m\n\u001b[0;32m      1\u001b[0m \u001b[0mn\u001b[0m \u001b[1;33m=\u001b[0m \u001b[1;34m'e'\u001b[0m\u001b[1;33m\u001b[0m\u001b[1;33m\u001b[0m\u001b[0m\n\u001b[1;32m----> 2\u001b[1;33m \u001b[1;32massert\u001b[0m \u001b[0misinstance\u001b[0m\u001b[1;33m(\u001b[0m\u001b[0mn\u001b[0m\u001b[1;33m,\u001b[0m \u001b[0mint\u001b[0m\u001b[1;33m)\u001b[0m\u001b[1;33m,\u001b[0m \u001b[1;34mf\"n shoud be interger, {n} is not allowed.\"\u001b[0m\u001b[1;33m\u001b[0m\u001b[1;33m\u001b[0m\u001b[0m\n\u001b[0m",
      "\u001b[1;31mAssertionError\u001b[0m: n shoud be interger, e is not allowed."
     ]
    }
   ],
   "source": [
    "n = 'e'\n",
    "assert isinstance(n, int), f\"n shoud be interger, {n} is not allowed.\""
   ]
  },
  {
   "cell_type": "markdown",
   "id": "e5f8c8b7",
   "metadata": {},
   "source": [
    "#### Q5. What is the purpose of the with/as argument, and what other statement is it like ?"
   ]
  },
  {
   "cell_type": "markdown",
   "id": "1df77c99",
   "metadata": {},
   "source": [
    "* The `with/as` argument is used in handling the file streams. This will take care of resource allocation, resource management and releasing.\n",
    "* In the old syntax, we have to open the file, use, and we have to close it to keep the resources unleaked. The `with/as` argument takes care of all these, this is an optimal while working with file streams."
   ]
  }
 ],
 "metadata": {
  "kernelspec": {
   "display_name": "Python 3 (ipykernel)",
   "language": "python",
   "name": "python3"
  },
  "language_info": {
   "codemirror_mode": {
    "name": "ipython",
    "version": 3
   },
   "file_extension": ".py",
   "mimetype": "text/x-python",
   "name": "python",
   "nbconvert_exporter": "python",
   "pygments_lexer": "ipython3",
   "version": "3.9.2"
  }
 },
 "nbformat": 4,
 "nbformat_minor": 5
}
