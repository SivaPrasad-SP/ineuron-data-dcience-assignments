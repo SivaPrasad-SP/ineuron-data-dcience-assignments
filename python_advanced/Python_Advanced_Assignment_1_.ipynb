{
 "cells": [
  {
   "cell_type": "markdown",
   "id": "c7887c2d",
   "metadata": {},
   "source": [
    "#### Q1. What is the purpose of Python's OOP?"
   ]
  },
  {
   "cell_type": "markdown",
   "id": "ab1ba99e",
   "metadata": {},
   "source": [
    "* Object oriented programming uses classes and objects, in which the class binds the data and functions together in a structured way which can be used by any number of objects with their own data, which helps in code reusability.\n",
    "* With the help of Inheritance and Polymorphism the code will be more reusable, robust and adaptable to upcoming changes easily.\n",
    "* Encapsulation is one more advantage of Python OOP, it will keep the code organized, secure and modular."
   ]
  },
  {
   "cell_type": "markdown",
   "id": "6d819c23",
   "metadata": {},
   "source": [
    "#### Q2. Where does an inheritance search look for an attribute ?"
   ]
  },
  {
   "cell_type": "markdown",
   "id": "1feda956",
   "metadata": {},
   "source": [
    "* In Python, the inheritance search look for the attribute in its self class first, then it look into the attributes of all its super classes, if any, in the order of their hierarchy from latest child to oldest parent."
   ]
  },
  {
   "cell_type": "markdown",
   "id": "4655ad4f",
   "metadata": {},
   "source": [
    "#### Q3. How do you distinguish between a class object and an instance object ?"
   ]
  },
  {
   "cell_type": "markdown",
   "id": "2e233229",
   "metadata": {},
   "source": [
    "* A class is a structure which will be declared once and used to create any number of objects.\n",
    "* Class is a user defined type that describes how an object will look like, objects have the real data which needs memory.\n",
    "* For each object a variable memory portion is allocated, but the class declaration need fixed and less memory."
   ]
  },
  {
   "cell_type": "markdown",
   "id": "1e28656c",
   "metadata": {},
   "source": [
    "#### Q4. What makes the first argument in a class’s method function special ?"
   ]
  },
  {
   "cell_type": "markdown",
   "id": "84debc28",
   "metadata": {},
   "source": [
    "* Python Classes have 3 type of methods, Class methods, instance methods and static methods.\n",
    "* Out of 3 the class methods and instance methods accept default first parameter.\n",
    "* The first argument in Class method is cls(by convention), that refers to the Class itself.\n",
    "* The first argument in instance methods is self(by convention), that refers the object itself which is an instance of its class."
   ]
  },
  {
   "cell_type": "markdown",
   "id": "8d9ec0fb",
   "metadata": {},
   "source": [
    "#### Q5. What is the purpose of the __init__ method ?"
   ]
  },
  {
   "cell_type": "markdown",
   "id": "17bcf1d8",
   "metadata": {},
   "source": [
    "* `__init__` method is an inbuilt Python class method, similar to constructor in Object oriented terminology, it is automatically called after an object construction to initialize the object state(attributes). The first argument self (by convention) in `__init__` method refers to object itself and is accepted by default in instance methods."
   ]
  },
  {
   "cell_type": "markdown",
   "id": "cebf52f4",
   "metadata": {},
   "source": [
    "#### Q6. What is the process for creating a class instance ?"
   ]
  },
  {
   "cell_type": "markdown",
   "id": "fc5363f9",
   "metadata": {},
   "source": [
    "* To create an instance of a class, you call the class using class name and pass in whatever arguments its __init__ method accepts.\n",
    "* __example__ : sp = Person(\"Siva Prasad\"), <br> sp is an object of type Person, sp is initialized with name \"Siva Prasad\"."
   ]
  },
  {
   "cell_type": "markdown",
   "id": "fc3cfa28",
   "metadata": {},
   "source": [
    "#### Q7. What is the process for creating a class ?"
   ]
  },
  {
   "cell_type": "markdown",
   "id": "da466f50",
   "metadata": {},
   "source": [
    "* class keyword is used to create a class in Python. `class ClassName:` is the syntax to create a class.\n",
    "- __example__ : <br>\n",
    "  `class` Person: <br>\n",
    "  &emsp;&emsp;pass"
   ]
  },
  {
   "cell_type": "markdown",
   "id": "3d33d3da",
   "metadata": {},
   "source": [
    "#### Q8. How would you define the superclasses of a class ?"
   ]
  },
  {
   "cell_type": "markdown",
   "id": "497c4591",
   "metadata": {},
   "source": [
    "- The class whose properties gets inherited by another class is known as superclass and the class which inherits the properties   is a subclass.\n",
    "- A class can inherit properties of a Parent class by passing the Parent class as its argument.\n",
    "\n",
    "\n",
    "- __example__ : <br>\n",
    "  `class` Student(Person): <br>\n",
    "  &emsp;&emsp;pass\n",
    "- here, Student is the base class, it will inherit all the properties of the parent class Person."
   ]
  }
 ],
 "metadata": {
  "kernelspec": {
   "display_name": "Python 3 (ipykernel)",
   "language": "python",
   "name": "python3"
  },
  "language_info": {
   "codemirror_mode": {
    "name": "ipython",
    "version": 3
   },
   "file_extension": ".py",
   "mimetype": "text/x-python",
   "name": "python",
   "nbconvert_exporter": "python",
   "pygments_lexer": "ipython3",
   "version": "3.9.2"
  }
 },
 "nbformat": 4,
 "nbformat_minor": 5
}
