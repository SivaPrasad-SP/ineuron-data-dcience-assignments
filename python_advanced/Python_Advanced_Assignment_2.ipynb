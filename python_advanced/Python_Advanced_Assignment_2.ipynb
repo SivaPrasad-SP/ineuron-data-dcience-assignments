{
 "cells": [
  {
   "cell_type": "markdown",
   "id": "b44a1fc4",
   "metadata": {},
   "source": [
    "#### Q1. What is the relationship between classes and modules?"
   ]
  },
  {
   "cell_type": "markdown",
   "id": "13063c1d",
   "metadata": {},
   "source": [
    "A python class is a structure that defines its capabilities of holding data and performing specified tasks. Any no of objects or instances can be created using that class, these objects posess same properties of class, are used in action to achive the results. \n",
    "A python modeule is file(having .py extension) that contains python code, this file can be imported into any other python file and the functions/classes available in that file can be utilized. Python contains many in built modules, which are python files containing classes or functions."
   ]
  },
  {
   "cell_type": "markdown",
   "id": "06b7b74f",
   "metadata": {},
   "source": [
    "#### Q2. How do you make instances and classes?"
   ]
  },
  {
   "cell_type": "markdown",
   "id": "e88b2162",
   "metadata": {},
   "source": [
    "* Here is the example to create the class and instance."
   ]
  },
  {
   "cell_type": "code",
   "execution_count": 5,
   "id": "694615a7",
   "metadata": {},
   "outputs": [
    {
     "name": "stdout",
     "output_type": "stream",
     "text": [
      "I am Car, I have 4 wheels.\n",
      "I am Auto, I have 3 wheels.\n"
     ]
    }
   ],
   "source": [
    "\n",
    "# creating a class\n",
    "\n",
    "class Vehicle:\n",
    "    def __init__(self, vehicle_type, no_of_wheels):\n",
    "        self.vehicle_type = vehicle_type\n",
    "        self.no_of_wheels = no_of_wheels\n",
    "    \n",
    "    def who_am_I(self):\n",
    "        print(f\"I am {self.vehicle_type}, I have {self.no_of_wheels} wheels.\")\n",
    "\n",
    "# creating instances of class\n",
    "        \n",
    "car = Vehicle(\"Car\", 4)\n",
    "car.who_am_I()\n",
    "\n",
    "auto = Vehicle(\"Auto\", 3)\n",
    "auto.who_am_I()"
   ]
  },
  {
   "cell_type": "markdown",
   "id": "6895d3bf",
   "metadata": {},
   "source": [
    "#### Q3. Where and how should be class attributes created ?"
   ]
  },
  {
   "cell_type": "markdown",
   "id": "edb07e6b",
   "metadata": {},
   "source": [
    "* Class attributes are created inside the class, outside all the methods of class. The class attributes can be shared to the instances of class."
   ]
  },
  {
   "cell_type": "code",
   "execution_count": 10,
   "id": "e97b696a",
   "metadata": {},
   "outputs": [
    {
     "name": "stdout",
     "output_type": "stream",
     "text": [
      "I am Car, I have 5 wheels.\n",
      "I am Car, I have 5 wheels.\n"
     ]
    }
   ],
   "source": [
    "class Car:\n",
    "    no_of_wheels = 4\n",
    "    def __init__(self, name):\n",
    "        self.name = name\n",
    "    \n",
    "    def who_am_I(self):\n",
    "        print(f\"My name is {self.name}, I have {no_of_wheels} wheels.\")\n",
    "\n",
    "car1 = Car(\"Dzire\")\n",
    "car.who_am_I()\n",
    "car.no_of_wheels = 5  # stepney is added\n",
    "car.who_am_I()"
   ]
  },
  {
   "cell_type": "markdown",
   "id": "1c56a977",
   "metadata": {},
   "source": [
    "#### Q4. Where and how are instance attributes created ?"
   ]
  },
  {
   "cell_type": "markdown",
   "id": "3ef8c5e6",
   "metadata": {},
   "source": [
    "Instance attributes are defined inside the `__init__` method of the class. While creating a new object the attributes data is passed via class, then the `__init__` method initializes the object properties for that specifit object.\n",
    "\n",
    "eg. auto = Vehicle(\"Auto\", 3)\n",
    "* here the auto object will have the type as \"Auto\" and 4 wheels as properties."
   ]
  },
  {
   "cell_type": "markdown",
   "id": "6844a2e6",
   "metadata": {},
   "source": [
    "#### Q5. What does the term \"self\" in a Python class mean?"
   ]
  },
  {
   "cell_type": "markdown",
   "id": "0e254a18",
   "metadata": {},
   "source": [
    "* The first argument self (by convention) in __init__ method of a class refers to object itself and is accepted by default in instance methods."
   ]
  },
  {
   "cell_type": "markdown",
   "id": "aa24bff1",
   "metadata": {},
   "source": [
    "#### Q6. How does a Python class handle operator overloading ?"
   ]
  },
  {
   "cell_type": "markdown",
   "id": "69a0173e",
   "metadata": {},
   "source": [
    "The operator overloading is possible, becuase few operators have methods which can be created inside a class to override the existing functionality."
   ]
  },
  {
   "cell_type": "code",
   "execution_count": 18,
   "id": "2b89f17e",
   "metadata": {},
   "outputs": [
    {
     "data": {
      "text/plain": [
       "'The add function is overloaded, so 5 + 4 is : 20, magic..!'"
      ]
     },
     "execution_count": 18,
     "metadata": {},
     "output_type": "execute_result"
    }
   ],
   "source": [
    "# eg: + operator has inbuilt method as __add__, let's overload this\n",
    "\n",
    "class Do_magic:\n",
    "    def __init__(self, a):\n",
    "        self.a = a\n",
    "    \n",
    "    def __add__(self, b):\n",
    "        return self.a*b\n",
    "    \n",
    "    def __str__(self):\n",
    "        return str(self.a)\n",
    "\n",
    "a = Do_magic(5)\n",
    "b = 4\n",
    "\n",
    "f\"The add function is overloaded, so {a} + {b} is : {a+b}, magic..!\""
   ]
  },
  {
   "cell_type": "markdown",
   "id": "47d47314",
   "metadata": {},
   "source": [
    "#### Q7. When do you consider allowing operator overloading of your classes ?"
   ]
  },
  {
   "cell_type": "markdown",
   "id": "817284d9",
   "metadata": {},
   "source": [
    "* If the default working of the operator methods are not useful, then we overload those methods as per our need.\n",
    "\n",
    "eg: the * operator on a string with an integer 'n' appends the string to itself 'n' no of times, but we are overloading it here"
   ]
  },
  {
   "cell_type": "code",
   "execution_count": 24,
   "id": "072b2db3",
   "metadata": {},
   "outputs": [
    {
     "data": {
      "text/plain": [
       "'The add function is overloaded, so a*3 is : a3, magic..!'"
      ]
     },
     "execution_count": 24,
     "metadata": {},
     "output_type": "execute_result"
    }
   ],
   "source": [
    "\n",
    "class Do_magic:\n",
    "    def __init__(self, a):\n",
    "        self.a = a\n",
    "    \n",
    "    def __mul__(self, b):\n",
    "        return str(self.a)+str(b)\n",
    "    \n",
    "    def __str__(self):\n",
    "        return str(self.a)\n",
    "\n",
    "a = Do_magic('a')\n",
    "b = 3\n",
    "\n",
    "f\"The add function is overloaded, so {a}*{b} is : {a*b}, magic..!\""
   ]
  },
  {
   "cell_type": "markdown",
   "id": "f4be5c22",
   "metadata": {},
   "source": [
    "#### 8. What is the most popular form of operator overloading ?"
   ]
  },
  {
   "cell_type": "markdown",
   "id": "b15aed7e",
   "metadata": {},
   "source": [
    "* The inbuilt operator methods which have `__` both at start and end of the method name, these help us overload the existing behaviour. These are popular form of operator overloading."
   ]
  },
  {
   "cell_type": "markdown",
   "id": "45db031c",
   "metadata": {},
   "source": [
    "#### Q9. What are the two most important concepts to grasp in order to comprehend Python OOP code ?"
   ]
  },
  {
   "cell_type": "markdown",
   "id": "4b4f7c76",
   "metadata": {},
   "source": [
    "* Along with Classes and objects combination, the inheritance, data abstraction, polymorphism, and encapsulation are the importance concepts of Python Oops."
   ]
  }
 ],
 "metadata": {
  "kernelspec": {
   "display_name": "Python 3 (ipykernel)",
   "language": "python",
   "name": "python3"
  },
  "language_info": {
   "codemirror_mode": {
    "name": "ipython",
    "version": 3
   },
   "file_extension": ".py",
   "mimetype": "text/x-python",
   "name": "python",
   "nbconvert_exporter": "python",
   "pygments_lexer": "ipython3",
   "version": "3.10.7"
  }
 },
 "nbformat": 4,
 "nbformat_minor": 5
}
