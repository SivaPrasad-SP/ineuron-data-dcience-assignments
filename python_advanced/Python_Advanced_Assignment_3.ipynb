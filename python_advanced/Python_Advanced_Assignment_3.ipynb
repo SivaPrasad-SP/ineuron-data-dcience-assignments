{
 "cells": [
  {
   "cell_type": "markdown",
   "id": "2bba14f4",
   "metadata": {},
   "source": [
    "#### 1. What is the concept of an abstract superclass ?"
   ]
  },
  {
   "cell_type": "markdown",
   "id": "b3ee0297",
   "metadata": {},
   "source": [
    "* An Abstract class contains abstract methods, Abstract classes are created to use it as a super class of other classes.\n",
    "* Abstract methods must be overloaded when any class inherits from Abstract class, this condition keeps the application flow structured, organized and understandable.\n",
    "\n",
    "> see the example below.."
   ]
  },
  {
   "cell_type": "code",
   "execution_count": 6,
   "id": "26bd4c87",
   "metadata": {},
   "outputs": [
    {
     "name": "stdout",
     "output_type": "stream",
     "text": [
      "I am vaccinated with basic dose\n",
      "I am vaccinated with medium dose\n"
     ]
    }
   ],
   "source": [
    "from abc import ABC, abstractmethod\n",
    "\n",
    "class Person:\n",
    "    @abstractmethod\n",
    "    def vaccinate(self):\n",
    "        pass\n",
    "\n",
    "class Teenager(Person):\n",
    "    def vaccinate(self):\n",
    "        print('I am vaccinated with basic dose')\n",
    "\n",
    "class Youth(Person):\n",
    "    def vaccinate(self):\n",
    "        print('I am vaccinated with medium dose')\n",
    "\n",
    "# Every person has to be vaccinated, \n",
    "# so defining it as abstract method will let the people understand that it is mandatory.\n",
    "        \n",
    "teen_17_yrs = Teenager()\n",
    "teen_17_yrs.vaccinate()\n",
    "\n",
    "youth_25_old = Youth()\n",
    "youth_25_old.vaccinate()"
   ]
  },
  {
   "cell_type": "markdown",
   "id": "08df60bc",
   "metadata": {},
   "source": [
    "#### 2. What happens when a class statement's top level contains a basic assignment statement ?"
   ]
  },
  {
   "cell_type": "markdown",
   "id": "322b2328",
   "metadata": {},
   "source": [
    "* If a class statement's top level contains a basic assignment statement, then it means it is a class attribute or class variable.\n",
    "* A class variable belongs to class, that can be used by all the instances of class. And the value of class variable is maintained same across all the objects."
   ]
  },
  {
   "cell_type": "code",
   "execution_count": 16,
   "id": "cd6a71dd",
   "metadata": {},
   "outputs": [
    {
     "name": "stdout",
     "output_type": "stream",
     "text": [
      "on normal days   :  We provide a discount of 10% on all products now.\n",
      "on festival days :  We provide a discount of 30% on all products now.\n"
     ]
    },
    {
     "data": {
      "text/plain": [
       "'**if Discount is same accross all products, then the class variable is useful, as it stays same across all the objects'"
      ]
     },
     "execution_count": 16,
     "metadata": {},
     "output_type": "execute_result"
    }
   ],
   "source": [
    "class Product:\n",
    "    discount = '10%'\n",
    "    @staticmethod\n",
    "    def current_discount():\n",
    "        print(f\"We provide a discount of {__class__.discount} on all products now.\")\n",
    "\n",
    "print(\"on normal days   : \", end=\" \")\n",
    "fridge = Product()\n",
    "fridge.current_discount()\n",
    "\n",
    "print(\"on festival days : \", end=\" \")\n",
    "cooler = Product()\n",
    "Product.discount = '30%'\n",
    "cooler.current_discount()\n",
    "# fridge.current_discount()  #  discount = '30%'\n",
    "\n",
    "\"**if Discount is same accross all products, then the class variable is useful, as it stays same across all the objects\""
   ]
  },
  {
   "cell_type": "markdown",
   "id": "8cfcd5ee",
   "metadata": {},
   "source": [
    "#### 3. Why does a class need to manually call a superclass's __init__ method ?"
   ]
  },
  {
   "cell_type": "markdown",
   "id": "b2a5487c",
   "metadata": {},
   "source": [
    "* while inheritance, by default the child class will have the varibles of parent class. To add new variables, the child has to use `__init__` method, that will override the parent's `__init__` method, that makes the child not having the parent variables. So the child has to call super.__init__ method to consider the parent variable.\n",
    "* Let's see an example"
   ]
  },
  {
   "cell_type": "code",
   "execution_count": 34,
   "id": "2c503176",
   "metadata": {},
   "outputs": [
    {
     "name": "stdout",
     "output_type": "stream",
     "text": [
      "without super class __init__ :  {'salary': 10000}\n",
      "with super class __init__    :  {'name': 'Emp1', 'salary': 10000}\n"
     ]
    }
   ],
   "source": [
    "class Person():\n",
    "    def __init__(self, name):\n",
    "        self.name = name\n",
    "\n",
    "class Employee(Person):\n",
    "    def __init__(self, name, salary):\n",
    "        # super().__init__(name)\n",
    "        self.salary = salary\n",
    "\n",
    "emp1 = Employee('Emp1', 10000)\n",
    "print(\"without super class __init__ : \", emp1.__dict__)\n",
    "\n",
    "class Employee(Person):\n",
    "    def __init__(self, name, salary):\n",
    "        super().__init__(name)\n",
    "        self.salary = salary\n",
    "\n",
    "emp1 = Employee('Emp1', 10000)\n",
    "print(\"with super class __init__    : \", emp1.__dict__)"
   ]
  },
  {
   "cell_type": "markdown",
   "id": "4e70f057",
   "metadata": {},
   "source": [
    "#### 4. How can you augment, instead of completely replacing, an inherited method ?"
   ]
  },
  {
   "cell_type": "markdown",
   "id": "07f25b5d",
   "metadata": {},
   "source": [
    "* We can overload a parent function, and by using class's super() method we can get the parent function working and we can also augment new functionality to that function.\n",
    "\n",
    "* check this example : "
   ]
  },
  {
   "cell_type": "code",
   "execution_count": 50,
   "id": "c193b6c3",
   "metadata": {},
   "outputs": [
    {
     "name": "stdout",
     "output_type": "stream",
     "text": [
      "Person greets as : `Hi`\n",
      "Sweet Person greets as : `hey.. What's Up`\n"
     ]
    }
   ],
   "source": [
    "class Person():\n",
    "    def greet(self, msg):\n",
    "        print(msg, end=\"\")\n",
    "\n",
    "class SweetPerson(Person):\n",
    "    def greet(self, msg1, msg2):\n",
    "        super().greet(msg1)\n",
    "        print(msg2)\n",
    "\n",
    "print(\"Person greets as : `\", end =\"\")\n",
    "person = Person()\n",
    "person.greet('Hi')\n",
    "\n",
    "# extra functionality is augmented in greet method, without completely replacing it.\n",
    "\n",
    "print(\"`\\nSweet Person greets as : `\", end =\"\")\n",
    "sweetPerson = SweetPerson()\n",
    "sweetPerson.greet(\"hey..\", \" What's Up`\")"
   ]
  },
  {
   "cell_type": "markdown",
   "id": "d70a3e7a",
   "metadata": {},
   "source": [
    "#### 5. How is the local scope of a class different from that of a function ?"
   ]
  },
  {
   "cell_type": "markdown",
   "id": "9f981b6b",
   "metadata": {},
   "source": [
    "* A variable outside of all classes and functions, is a global variable, id accessible any where inside that code, so it has a global scope.\n",
    "* A variable inside class have local & global scope, it can be inside class with className and also `__class__`(local scope), A class variable can be accessed globally if we call it using className.\n",
    "* A function variable can be accessed only inside a function, it las local scope only."
   ]
  },
  {
   "cell_type": "code",
   "execution_count": 58,
   "id": "58693c86",
   "metadata": {},
   "outputs": [
    {
     "name": "stdout",
     "output_type": "stream",
     "text": [
      "Accessing class variable discount outside class :  10%\n",
      "Accessing class variable discount outside class :  10%\n"
     ]
    }
   ],
   "source": [
    "## class scope\n",
    "\n",
    "class Product:\n",
    "    discount = '10%'\n",
    "    @staticmethod\n",
    "    def current_discount():\n",
    "        print(\"Accessing class variable discount inside class : \", __class__.discount)\n",
    "\n",
    "Product.current_discount()\n",
    "\n",
    "print(\"Accessing class variable discount outside class : \", Product.discount)"
   ]
  },
  {
   "cell_type": "code",
   "execution_count": 56,
   "id": "f7f33311",
   "metadata": {},
   "outputs": [
    {
     "name": "stdout",
     "output_type": "stream",
     "text": [
      "Accessing function variable discount inside function :  10%\n"
     ]
    },
    {
     "ename": "NameError",
     "evalue": "name 'discount' is not defined",
     "output_type": "error",
     "traceback": [
      "\u001b[1;31m---------------------------------------------------------------------------\u001b[0m",
      "\u001b[1;31mNameError\u001b[0m                                 Traceback (most recent call last)",
      "\u001b[1;32mC:\\Users\\SARATH~1.LOT\\AppData\\Local\\Temp/ipykernel_4916/3218982710.py\u001b[0m in \u001b[0;36m<module>\u001b[1;34m\u001b[0m\n\u001b[0;32m      9\u001b[0m \u001b[1;31m## Accessing function variable outside function gives error..\u001b[0m\u001b[1;33m\u001b[0m\u001b[1;33m\u001b[0m\u001b[0m\n\u001b[0;32m     10\u001b[0m \u001b[1;33m\u001b[0m\u001b[0m\n\u001b[1;32m---> 11\u001b[1;33m \u001b[0mprint\u001b[0m\u001b[1;33m(\u001b[0m\u001b[1;34m\"Accessing function variable discount inside function : \"\u001b[0m\u001b[1;33m,\u001b[0m \u001b[0mdiscount\u001b[0m\u001b[1;33m)\u001b[0m\u001b[1;33m\u001b[0m\u001b[1;33m\u001b[0m\u001b[0m\n\u001b[0m",
      "\u001b[1;31mNameError\u001b[0m: name 'discount' is not defined"
     ]
    }
   ],
   "source": [
    "## function scope\n",
    "\n",
    "def product():\n",
    "    discount = '10%'\n",
    "    print(\"Accessing function variable discount inside function : \", discount)\n",
    "\n",
    "product()\n",
    "\n",
    "## Accessing function variable outside function gives error..\n",
    "\n",
    "print(\"Accessing function variable discount inside function : \", discount)"
   ]
  }
 ],
 "metadata": {
  "kernelspec": {
   "display_name": "Python 3 (ipykernel)",
   "language": "python",
   "name": "python3"
  },
  "language_info": {
   "codemirror_mode": {
    "name": "ipython",
    "version": 3
   },
   "file_extension": ".py",
   "mimetype": "text/x-python",
   "name": "python",
   "nbconvert_exporter": "python",
   "pygments_lexer": "ipython3",
   "version": "3.9.7"
  }
 },
 "nbformat": 4,
 "nbformat_minor": 5
}
