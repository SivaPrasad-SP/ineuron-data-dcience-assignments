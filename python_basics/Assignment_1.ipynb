{
 "cells": [
  {
   "cell_type": "markdown",
   "id": "4e5162bc",
   "metadata": {},
   "source": [
    "#### 1. In the below elements which of them are values or an expression?\n",
    "* eg:- values can be integer or string and expressions will be mathematical operators."
   ]
  },
  {
   "cell_type": "raw",
   "id": "edd24c1a",
   "metadata": {},
   "source": [
    "* is used as Arithmetic multiplication operator with integer variables, repetition operator with strings, and also used in function declaration to accept variable number of arguments passed.\n",
    "\n",
    "'hello' : is a string value\n",
    "\n",
    "-87.8 :  is a negative float value\n",
    "\n",
    "- : is Arithmetic subtraction operator\n",
    "\n",
    "/ : is Arithmetic division operator\n",
    "\n",
    "+ : is Arithmetic addition operator\n",
    "\n",
    "6 : is an integer value"
   ]
  },
  {
   "cell_type": "markdown",
   "id": "4a82cca9",
   "metadata": {},
   "source": [
    "#### 2. What is the difference between string and variable  ?"
   ]
  },
  {
   "cell_type": "markdown",
   "id": "8b180f1d",
   "metadata": {},
   "source": [
    "* String is a datatype, String holds the sequence of textual characters, Strings are created by enclosing characters inside a single quote or double-quotes.\n",
    "* A variable can hold or store any type of value, can also store a string. A variable can be modified or re-assigned, and the type of variable can be changed with casting."
   ]
  },
  {
   "cell_type": "markdown",
   "id": "9d2c0ac9",
   "metadata": {},
   "source": [
    "#### 3. Describe three different data types."
   ]
  },
  {
   "cell_type": "markdown",
   "id": "1d6aba04",
   "metadata": {},
   "source": [
    "* Integer (int) : Integer value is represented by int class, It can contain whole numbers.\n",
    "* String (str)  : Strings are sequence of bytes representing unicode characters. Strings are created by enclosing characters inside a single quote or double-quotes. String is immutable, it cannot be modified.\n",
    "* List (list)   : Lists are used to store multiple values in a single variable. List is sequence type, it scales like a dynamic array, it has lot of useful in-built methods in its class. List is mutable, it can be modified."
   ]
  },
  {
   "cell_type": "markdown",
   "id": "84fe2b62",
   "metadata": {},
   "source": [
    "#### 4. What is an expression made up of? What do all expressions do?"
   ]
  },
  {
   "cell_type": "markdown",
   "id": "ad975601",
   "metadata": {},
   "source": [
    "* An expression is a combination of operators and operands that is interpreted to produce some result.\n",
    "* expressions evaluate to produce a result or a new value."
   ]
  },
  {
   "cell_type": "markdown",
   "id": "7ff95ff7",
   "metadata": {},
   "source": [
    "#### 5. This assignment statements, like spam = 10. What is the difference between an expression and a statement?"
   ]
  },
  {
   "cell_type": "markdown",
   "id": "deeeecde",
   "metadata": {},
   "source": [
    "* An expression is a combination of operators and operands that is interpreted to produce some value.\n",
    "* A statement is a line of execution(or instruction) of a program."
   ]
  },
  {
   "cell_type": "markdown",
   "id": "d319124b",
   "metadata": {},
   "source": [
    "#### 6. After running the following code, what does the variable bacon contain?"
   ]
  },
  {
   "cell_type": "raw",
   "id": "ffb8ed94",
   "metadata": {},
   "source": [
    "bacon = 22\n",
    "bacon + 1"
   ]
  },
  {
   "cell_type": "markdown",
   "id": "4a7bb31c",
   "metadata": {},
   "source": [
    "* The value of bacon will be 22, as bacon variable is not assigned with any other value.\n",
    "* The bacon + 1 statement holds 23, but as it is not assigned to bacon, so the value of bacon remains 22 only."
   ]
  },
  {
   "cell_type": "markdown",
   "id": "39c2d14c",
   "metadata": {},
   "source": [
    "#### 7. What should the values of the following two terms be?"
   ]
  },
  {
   "cell_type": "raw",
   "id": "eb6b311c",
   "metadata": {},
   "source": [
    "'spam'+'spamspam' gives 'spamspamspam' as output, because the *(__add__ internally) is overloaded in string class to concatenate given string operands.\n",
    "\n",
    "'spam'*3  gives 'spamspamspam' as output, because the *(__mul__ internally) is overloaded in string class to concatenate the given string to itself n number of times. "
   ]
  },
  {
   "cell_type": "markdown",
   "id": "adecd052",
   "metadata": {},
   "source": [
    "#### 8. Why is eggs a valid variable name while 100 is invalid?"
   ]
  },
  {
   "cell_type": "markdown",
   "id": "b1973832",
   "metadata": {},
   "source": [
    "As per the Rules of Python,\n",
    "* A variable name cannot start with a number, it must start with a letter or the underscore character followed by alpha-numeric characters and underscores."
   ]
  },
  {
   "cell_type": "markdown",
   "id": "ff398887",
   "metadata": {},
   "source": [
    "#### 9. What three functions can be used to get the integer, floating-point number, or string version of a value?"
   ]
  },
  {
   "cell_type": "code",
   "execution_count": 26,
   "id": "0ebf3fa5",
   "metadata": {},
   "outputs": [
    {
     "name": "stdout",
     "output_type": "stream",
     "text": [
      "2 <class 'int'>\n",
      "2.0 <class 'float'>\n",
      "2.0 <class 'str'>\n"
     ]
    }
   ],
   "source": [
    "value = 2.5\n",
    "\n",
    "value = int(value)\n",
    "print(value, type(value))\n",
    "\n",
    "value = float(value)\n",
    "print(value, type(value))\n",
    "\n",
    "value = str(value)\n",
    "print(value, type(value))"
   ]
  },
  {
   "cell_type": "markdown",
   "id": "a6f9563e",
   "metadata": {},
   "source": [
    "#### 10. Why does this expression cause an error? How can you fix it?\n",
    "'I have eaten' + 99 + 'burritos.'"
   ]
  },
  {
   "cell_type": "raw",
   "id": "f38d2721",
   "metadata": {},
   "source": [
    "'+' operator cannot concatenate or add a string and an integer.\n",
    "To fix it we have convert the integer value into string using, str() function."
   ]
  },
  {
   "cell_type": "code",
   "execution_count": 27,
   "id": "036bcfe5",
   "metadata": {
    "scrolled": true
   },
   "outputs": [
    {
     "data": {
      "text/plain": [
       "'I have eaten 99 burritos.'"
      ]
     },
     "execution_count": 27,
     "metadata": {},
     "output_type": "execute_result"
    }
   ],
   "source": [
    "'I have eaten ' + str(99) + ' burritos.'"
   ]
  }
 ],
 "metadata": {
  "kernelspec": {
   "display_name": "Python 3 (ipykernel)",
   "language": "python",
   "name": "python3"
  },
  "language_info": {
   "codemirror_mode": {
    "name": "ipython",
    "version": 3
   },
   "file_extension": ".py",
   "mimetype": "text/x-python",
   "name": "python",
   "nbconvert_exporter": "python",
   "pygments_lexer": "ipython3",
   "version": "3.10.7"
  }
 },
 "nbformat": 4,
 "nbformat_minor": 5
}
