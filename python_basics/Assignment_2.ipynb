{
  "cells": [
    {
      "cell_type": "markdown",
      "metadata": {
        "id": "xGqtl-TGNiZF"
      },
      "source": [
        "# Assignment 2 Solutions"
      ]
    },
    {
      "cell_type": "markdown",
      "metadata": {
        "id": "XNXN2m_ENiZR"
      },
      "source": [
        "#### Q1.What are the two values of the boolean data types? how do you write them ?\n",
        "**Ans**: __True__ and __False__ are two possible values of the boolen data type."
      ]
    },
    {
      "cell_type": "code",
      "execution_count": 6,
      "metadata": {
        "colab": {
          "base_uri": "https://localhost:8080/"
        },
        "id": "5ea8w9VGNiZU",
        "outputId": "1c1e494b-4a67-425a-f615-a0dbf281fb5c"
      },
      "outputs": [
        {
          "output_type": "stream",
          "name": "stdout",
          "text": [
            "`is_true` is True, of type <class 'bool'>\n",
            "`is_false` is False, of type <class 'bool'>\n"
          ]
        }
      ],
      "source": [
        "is_true = True\n",
        "is_false = False\n",
        "\n",
        "print(f\"`is_true` is {is_true}, of type {type(is_true)}\")\n",
        "print(f\"`is_false` is {is_false}, of type {type(is_false)}\")"
      ]
    },
    {
      "cell_type": "markdown",
      "metadata": {
        "id": "az33_-O6NiZX"
      },
      "source": [
        "#### Q2. What are the three different types of Boolean operators?\n",
        "**Ans**: `or` `and` `not` are the 3 types of Boolean operators can be used on boolean values in python."
      ]
    },
    {
      "cell_type": "code",
      "execution_count": 9,
      "metadata": {
        "colab": {
          "base_uri": "https://localhost:8080/"
        },
        "id": "vms3yOkJNiZY",
        "outputId": "59186bd7-82be-4810-bf94-3a02a8ad75b0"
      },
      "outputs": [
        {
          "output_type": "stream",
          "name": "stdout",
          "text": [
            "`z > x and z > y` is : False\n",
            "`z > x or z > y` is : True\n",
            "`not (z > y)` is : True\n"
          ]
        }
      ],
      "source": [
        "x = 25\n",
        "y = 33\n",
        "\n",
        "z = 29\n",
        "\n",
        "print(f\"`z > x and z > y` is : {z > x and z > y}\")\n",
        "print(f\"`z > x or z > y` is : {z > x or z > y}\")\n",
        "print(f\"`not (z > y)` is : {not(z > y)}\")"
      ]
    },
    {
      "cell_type": "markdown",
      "metadata": {
        "id": "Fr_w2seyNiZZ"
      },
      "source": [
        "#### Q3. Make a list of each Boolean operator&#39;s truth tables (i.e. every possible combination of Boolean values for the operator and what it evaluate) ?\n",
        "**Ans:** The Truth tables for the boolean tables are as follows:  \n",
        "* **Truth Table for `and` operaotor**  \n",
        "    True and True is True   \n",
        "    True and False is False  \n",
        "    False and True is False  \n",
        "    False and False is False\n",
        "    \n",
        "    \n",
        "* **Truth Table for `or` operaotor**  \n",
        "    True and True is True   \n",
        "    True and False is True  \n",
        "    False and True is True  \n",
        "    False and False is False\n",
        "    \n",
        "    \n",
        "* **Truth Table for `not` operaotor**        \n",
        "    not(True) is False\n",
        "    not(False) is True"
      ]
    },
    {
      "cell_type": "markdown",
      "metadata": {
        "id": "DacLGVq8NiZZ"
      },
      "source": [
        "#### Q4. What are the values of the following expressions ?\n",
        "* (5 &gt; 4) and (3 == 5)  \n",
        "* not (5 &gt; 4)  \n",
        "* (5 &gt; 4) or (3 == 5)  \n",
        "* not ((5 &gt; 4) or (3 == 5))  \n",
        "* (True and True) and (True == False)  \n",
        "* (not False) or (not True)  "
      ]
    },
    {
      "cell_type": "code",
      "execution_count": 11,
      "metadata": {
        "colab": {
          "base_uri": "https://localhost:8080/"
        },
        "id": "yD5RfjHJNiZa",
        "outputId": "df51d591-89f1-4517-e057-e304eaba04e6"
      },
      "outputs": [
        {
          "output_type": "stream",
          "name": "stdout",
          "text": [
            "(5>4)and(3==5) : False\n",
            "not(5>4) : False\n",
            "(5>4)or(3==5) : True\n",
            "not((5>4)or(3==5)) : False\n",
            "(True and True)and(True==False) : False\n",
            "(not False)or(not True) : True\n"
          ]
        }
      ],
      "source": [
        "print(f\"(5>4)and(3==5) : {(5>4)and(3==5)}\")\n",
        "print(f\"not(5>4) : {not(5>4)}\")\n",
        "print(f\"(5>4)or(3==5) : {(5>4)or(3==5)}\")\n",
        "print(f\"not((5>4)or(3==5)) : {not((5>4)or(3==5))}\")\n",
        "print(f\"(True and True)and(True==False) : {(True and True)and(True==False)}\")\n",
        "print(f\"(not False)or(not True) : {(not False)or(not True)}\")"
      ]
    },
    {
      "cell_type": "markdown",
      "metadata": {
        "id": "azgt_MaQNiZd"
      },
      "source": [
        "#### Q5. What are the six comparison operators?\n",
        "**Ans:**  Comparision operators in python are:  \n",
        "`==` , `!=` , `<` , `>` , `<=` , `=>`"
      ]
    },
    {
      "cell_type": "markdown",
      "metadata": {
        "id": "B8d035FDNiZe"
      },
      "source": [
        "#### Q6. How do you tell the difference between the equal to and assignment operators? Describe a condition and when you would use one ? \n",
        "**Ans:** The equal_to operator, `==`, compares two values or variables and evaluates to a Boolean value, while assignment operator, `=`, will store a value in the right side variable of `=` operator.\n"
      ]
    },
    {
      "cell_type": "code",
      "execution_count": 14,
      "metadata": {
        "colab": {
          "base_uri": "https://localhost:8080/"
        },
        "id": "eE93zQ4qNiZg",
        "outputId": "02d53350-a23d-497d-98b1-bdf1b70bf4a9"
      },
      "outputs": [
        {
          "output_type": "stream",
          "name": "stdout",
          "text": [
            "x = 5 ~ 5 is stored in x\n",
            "x == 5 ~ True\n"
          ]
        }
      ],
      "source": [
        "x = 5\n",
        "\n",
        "print(f\"x = 5 ~ 5 is stored in x\")\n",
        "print(f\"x == 5 ~ {x == 5}\")"
      ]
    },
    {
      "cell_type": "markdown",
      "metadata": {
        "id": "DvzAyXyXNiZg"
      },
      "source": [
        "#### Q7. Identify the three blocks in this code:\n",
        "spam = 0  \n",
        "if spam == 10:  \n",
        "print('eggs')  \n",
        "if spam > 5:  \n",
        "print('bacon')  \n",
        "else:  \n",
        "print('ham')  \n",
        "print('spam')  \n",
        "print('spam')\n",
        "\n",
        "**Ans**: In Python, code block is a collection of code that is in the same block or indent. This is most commonly found in classes, functions, and loops."
      ]
    },
    {
      "cell_type": "code",
      "execution_count": 16,
      "metadata": {
        "id": "VOCD70GINiZh"
      },
      "outputs": [],
      "source": [
        "spam = 0 \n",
        "if spam == 10: \n",
        "    print('eggs')  # ==> block_1\n",
        "if spam > 5:  \n",
        "    print('bacon')  # ==> block_2\n",
        "else:  \n",
        "    print('ham')  # ==> block_3\n",
        "print('spam')  \n",
        "print('spam')"
      ]
    },
    {
      "cell_type": "markdown",
      "metadata": {
        "id": "Qd9E8QgBNiZi"
      },
      "source": [
        "#### Q8. Write code that prints Hello if 1 is stored in spam, prints Howdy if 2 is stored in spam, and prints Greetings! if anything else is stored in spam.\n"
      ]
    },
    {
      "cell_type": "code",
      "execution_count": 17,
      "metadata": {
        "colab": {
          "base_uri": "https://localhost:8080/"
        },
        "id": "zqJQOiVgNiZi",
        "outputId": "3461a2e4-74a4-47d9-8054-76362fe575b5"
      },
      "outputs": [
        {
          "output_type": "stream",
          "name": "stdout",
          "text": [
            "Hello\n",
            "Howdy\n",
            "Greetings\n"
          ]
        }
      ],
      "source": [
        "def checkSpam(spam):\n",
        "    if spam==1:\n",
        "        print('Hello')\n",
        "    elif spam==2:\n",
        "        print('Howdy')\n",
        "    else:\n",
        "        print('Greetings')\n",
        "        \n",
        "checkSpam(1) \n",
        "checkSpam(2)\n",
        "checkSpam(3)"
      ]
    },
    {
      "cell_type": "markdown",
      "metadata": {
        "id": "mWV6usogNiZj"
      },
      "source": [
        "#### Q9.If your programme is stuck in an endless loop, what keys you’ll press?\n",
        "**Ans:** Press `Ctrl-c` to stop a program that stuck in an infinite loop."
      ]
    },
    {
      "cell_type": "markdown",
      "metadata": {
        "id": "9k1KIR6ZNiZj"
      },
      "source": [
        "#### Q10. How can you tell the difference between break and continue?\n",
        "**Ans:** The `break` statement will move the control of execution outside the loop if break condtion is satisfied. Whereas the `continue` statement will move the execution to next iteration of the loop."
      ]
    },
    {
      "cell_type": "markdown",
      "metadata": {
        "id": "y0Z4yBYwNiZk"
      },
      "source": [
        "#### Q11. In a for loop, what is the difference between range(10), range(0, 10), and range(0, 10, 1)?\n",
        "**Ans:** The Differences are as follows:  \n",
        "1. The _**range(10)**_ call range from 0 to 9 (does not include 10)  \n",
        "2. The _**range (0,10)**_ loop starts at 0  \n",
        "3. The _**range(0,10,1)**_ loop variable value will be incremented by 1 on each iteration   "
      ]
    },
    {
      "cell_type": "markdown",
      "metadata": {
        "id": "_3eC1BJwNiZk"
      },
      "source": [
        "#### Q12. Write a short program that prints the numbers 1 to 10 using a for loop. Then write an equivalent program that prints the numbers 1 to 10 using a while loop ? "
      ]
    },
    {
      "cell_type": "code",
      "execution_count": 18,
      "metadata": {
        "colab": {
          "base_uri": "https://localhost:8080/"
        },
        "id": "IOBK34K5NiZl",
        "outputId": "d1840598-0bd2-415f-f34a-b0019b63ea24"
      },
      "outputs": [
        {
          "output_type": "stream",
          "name": "stdout",
          "text": [
            "For Loop\n",
            "1, 2, 3, 4, 5, 6, 7, 8, 9, 10, \n",
            "\n",
            "While Loop\n",
            "1, 2, 3, 4, 5, 6, 7, 8, 9, 10, "
          ]
        }
      ],
      "source": [
        "print('For Loop') \n",
        "for i in range(1,11):\n",
        "    print(i, end=\", \")\n",
        "print('\\n')\n",
        "\n",
        "print('While Loop') \n",
        "i=1\n",
        "while i<=10:\n",
        "    print(i, end=\", \")\n",
        "    i+=1"
      ]
    },
    {
      "cell_type": "markdown",
      "metadata": {
        "id": "h3ej9fvFNiZl"
      },
      "source": [
        "#### Q13. If you had a function named bacon() inside a module named spam, how would you call it after importing spam ?\n",
        "**Ans:** This function can be called with `spam.bacon()`."
      ]
    }
  ],
  "metadata": {
    "kernelspec": {
      "display_name": "Python 3",
      "language": "python",
      "name": "python3"
    },
    "language_info": {
      "codemirror_mode": {
        "name": "ipython",
        "version": 3
      },
      "file_extension": ".py",
      "mimetype": "text/x-python",
      "name": "python",
      "nbconvert_exporter": "python",
      "pygments_lexer": "ipython3",
      "version": "3.8.8"
    },
    "colab": {
      "provenance": [],
      "collapsed_sections": []
    }
  },
  "nbformat": 4,
  "nbformat_minor": 0
}