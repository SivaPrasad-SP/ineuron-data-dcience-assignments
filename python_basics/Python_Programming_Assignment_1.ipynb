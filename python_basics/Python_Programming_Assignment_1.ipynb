{
 "cells": [
  {
   "cell_type": "markdown",
   "id": "15ec95e8",
   "metadata": {},
   "source": [
    "#### 1. Write a Python program to print \"Hello Python\" ?"
   ]
  },
  {
   "cell_type": "code",
   "execution_count": 1,
   "id": "4b26795f",
   "metadata": {},
   "outputs": [
    {
     "name": "stdout",
     "output_type": "stream",
     "text": [
      "Hello Python\n"
     ]
    }
   ],
   "source": [
    "print(\"Hello Python\")"
   ]
  },
  {
   "cell_type": "markdown",
   "id": "abd5ab8a",
   "metadata": {},
   "source": [
    "#### 2. Write a Python program to do arithmetical operations addition and division ?"
   ]
  },
  {
   "cell_type": "code",
   "execution_count": 163,
   "id": "bc026741",
   "metadata": {},
   "outputs": [
    {
     "name": "stdout",
     "output_type": "stream",
     "text": [
      "Enter Operator : -\n",
      "Enter operand(s) : 9\n",
      "Enter operand(s) : 8\n",
      "Enter operand(s) : 7\n",
      "Enter operand(s) : 6\n",
      "Enter operand(s) : 5\n",
      "Enter operand(s) : f\n"
     ]
    },
    {
     "data": {
      "text/plain": [
       "('The Result is : ', -17)"
      ]
     },
     "execution_count": 163,
     "metadata": {},
     "output_type": "execute_result"
    }
   ],
   "source": [
    "# This code works for any number of operands, the input accepts any number of valid operands(int or float), provide atleast 2.\n",
    "# Type any string in input to stop giving operands.\n",
    "\n",
    "def evaluate(operator, operands):\n",
    "    if len(operands) > 1:\n",
    "        result = operands[0]\n",
    "        for i in operands[1:]:\n",
    "            if operator == '+':\n",
    "                result += i\n",
    "            elif operator == '-':\n",
    "                result -= i\n",
    "            elif operator == '*':\n",
    "                result *= i\n",
    "            elif operator == '/':\n",
    "                result /= i\n",
    "            else:\n",
    "                return \"Provide valid Operator\"\n",
    "        return result\n",
    "    else:\n",
    "        return \"Provide atleast 2 Operands\"\n",
    "\n",
    "# accept input & try the above function\n",
    "\n",
    "operator = input(\"Enter Operator : \")\n",
    "\n",
    "input_nums = []\n",
    "\n",
    "while num := input(\"Enter operand(s) : \"):\n",
    "    try:\n",
    "        input_nums.append(int(num))\n",
    "    except:\n",
    "        try:\n",
    "            input_nums.append(float(num))\n",
    "        except:\n",
    "            break\n",
    "\n",
    "\"The Result is : \", evaluate(operator, input_nums)"
   ]
  },
  {
   "cell_type": "markdown",
   "id": "71817d98",
   "metadata": {},
   "source": [
    "#### 3. Write a Python program to find the area of a triangle?"
   ]
  },
  {
   "cell_type": "code",
   "execution_count": 132,
   "id": "2c9bb4a4",
   "metadata": {},
   "outputs": [
    {
     "data": {
      "text/plain": [
       "'Area of Triangle for base 5m & height 6m is : 15.0 sq. meter'"
      ]
     },
     "execution_count": 132,
     "metadata": {},
     "output_type": "execute_result"
    }
   ],
   "source": [
    "# I have considered meter as the measuring unit..\n",
    "\n",
    "def area_of_triangle(base, height):\n",
    "    return (1/2)*base*height\n",
    "\n",
    "b = 5\n",
    "h = 6\n",
    "\n",
    "f\"Area of Triangle for base {b}m & height {h}m is : {area_of_triangle(b, h)} sq. meter\""
   ]
  },
  {
   "cell_type": "markdown",
   "id": "ad718dde",
   "metadata": {},
   "source": [
    "#### 4. Write a Python program to swap two variables?"
   ]
  },
  {
   "cell_type": "code",
   "execution_count": 125,
   "id": "b4faa427",
   "metadata": {},
   "outputs": [
    {
     "name": "stdout",
     "output_type": "stream",
     "text": [
      "Values of a & b, before Swapping  : 4, 5 \n",
      "Values of a & b, after Swapping   : 5, 4 \n"
     ]
    }
   ],
   "source": [
    "a, b = 4, 5\n",
    "print(f\"Values of a & b, before Swapping  : {a}, {b} \")\n",
    "\n",
    "a, b = b, a\n",
    "print(f\"Values of a & b, after Swapping   : {a}, {b} \")"
   ]
  },
  {
   "cell_type": "markdown",
   "id": "fa008652",
   "metadata": {},
   "source": [
    "#### 5. Write a Python program to generate a random number?"
   ]
  },
  {
   "cell_type": "code",
   "execution_count": 119,
   "id": "e31cf322",
   "metadata": {},
   "outputs": [
    {
     "name": "stdout",
     "output_type": "stream",
     "text": [
      "Any Random number :  0.47032599060732816\n",
      "\n",
      "Random number between 1 to 100 :  46\n"
     ]
    }
   ],
   "source": [
    "import random\n",
    "\n",
    "print(\"Any Random number : \", random.random())\n",
    "\n",
    "print(\"\\nRandom number between 1 to 100 : \", random.randrange(1, 100))"
   ]
  }
 ],
 "metadata": {
  "kernelspec": {
   "display_name": "Python 3 (ipykernel)",
   "language": "python",
   "name": "python3"
  },
  "language_info": {
   "codemirror_mode": {
    "name": "ipython",
    "version": 3
   },
   "file_extension": ".py",
   "mimetype": "text/x-python",
   "name": "python",
   "nbconvert_exporter": "python",
   "pygments_lexer": "ipython3",
   "version": "3.9.2"
  }
 },
 "nbformat": 4,
 "nbformat_minor": 5
}
