{
 "cells": [
  {
   "cell_type": "markdown",
   "id": "e6ff5323",
   "metadata": {},
   "source": [
    "#### 1 Write a Python program to find sum of elements in list ?"
   ]
  },
  {
   "cell_type": "code",
   "execution_count": 10,
   "id": "d292695e",
   "metadata": {},
   "outputs": [
    {
     "name": "stdout",
     "output_type": "stream",
     "text": [
      "the sum of elements in [2, 4, 6, '7', 9] is 28\n",
      "Error : invalid literal for int() with base 10: '2i'\n"
     ]
    }
   ],
   "source": [
    "def list_sum(lst):\n",
    "    try:\n",
    "        sum_ = 0\n",
    "        for i in lst:\n",
    "            sum_ += int(i)\n",
    "        return f\"the sum of elements in {lst} is {sum_}\"\n",
    "    except BaseException as e:\n",
    "        return f\"Error : {str(e)}\"\n",
    "\n",
    "# either list of integers or list of integer convertable strings are allowed.\n",
    "print(list_sum([2,4,6,'7',9]))\n",
    "print(list_sum([1,'2i',3,4,5]))"
   ]
  },
  {
   "cell_type": "markdown",
   "id": "6e8e8e7f",
   "metadata": {},
   "source": [
    "#### 2. Write a Python program to Multiply all numbers in the list?"
   ]
  },
  {
   "cell_type": "code",
   "execution_count": 13,
   "id": "b6605464",
   "metadata": {},
   "outputs": [
    {
     "name": "stdout",
     "output_type": "stream",
     "text": [
      "the product of elements in [2, 4, '5', 7] is 280\n",
      "Error : invalid literal for int() with base 10: '2i'\n"
     ]
    }
   ],
   "source": [
    "def list_sum(lst):\n",
    "    try:\n",
    "        product_ = 1\n",
    "        for i in lst:\n",
    "            product_ *= int(i)\n",
    "        return f\"the product of elements in {lst} is {product_}\"\n",
    "    except BaseException as e:\n",
    "        return f\"Error : {str(e)}\"\n",
    "\n",
    "# either list of integers or list of integer convertable strings are allowed.\n",
    "print(list_sum([2,4,'5',7]))\n",
    "print(list_sum([1,'2i',3,4,5]))"
   ]
  },
  {
   "cell_type": "markdown",
   "id": "edf9682f",
   "metadata": {},
   "source": [
    "#### 3. Write a Python program to find smallest number in a list?"
   ]
  },
  {
   "cell_type": "code",
   "execution_count": 28,
   "id": "6bf18f33",
   "metadata": {},
   "outputs": [
    {
     "data": {
      "text/plain": [
       "'the smallest element of [3, 2, 5, 1, 6] is : 1'"
      ]
     },
     "execution_count": 28,
     "metadata": {},
     "output_type": "execute_result"
    }
   ],
   "source": [
    "\n",
    "def smallest(lst):\n",
    "    try:\n",
    "        min_ = lst[0]\n",
    "        for i in lst:\n",
    "            if min_ > i:\n",
    "                min_ = i\n",
    "        return f\"the smallest element of {lst} is : {min_}\"\n",
    "    except BaseException as e:\n",
    "        return f\"Error : {str(e)}\"\n",
    "\n",
    "lst = [3,2,5,1,6]\n",
    "smallest(lst)"
   ]
  },
  {
   "cell_type": "markdown",
   "id": "e49f00f2",
   "metadata": {},
   "source": [
    "#### 4. Write a Python program to find largest number in a list?"
   ]
  },
  {
   "cell_type": "code",
   "execution_count": 30,
   "id": "af317b45",
   "metadata": {},
   "outputs": [
    {
     "data": {
      "text/plain": [
       "'the largest element of [3, 2, 5, 1, 6, 4] is : 6'"
      ]
     },
     "execution_count": 30,
     "metadata": {},
     "output_type": "execute_result"
    }
   ],
   "source": [
    "\n",
    "def largest(lst):\n",
    "    try:\n",
    "        max_ = lst[0]\n",
    "        for i in lst:\n",
    "            if max_ < i:\n",
    "                max_ = i\n",
    "        return f\"the largest element of {lst} is : {max_}\"\n",
    "    except BaseException as e:\n",
    "        return f\"Error : {str(e)}\"\n",
    "\n",
    "lst = [3,2,5,1,6,4]\n",
    "largest(lst)"
   ]
  },
  {
   "cell_type": "markdown",
   "id": "131c7dcd",
   "metadata": {},
   "source": [
    "#### 5. Write a Python program to find second largest number in a list?"
   ]
  },
  {
   "cell_type": "code",
   "execution_count": 52,
   "id": "338820c1",
   "metadata": {},
   "outputs": [
    {
     "name": "stdout",
     "output_type": "stream",
     "text": [
      "the second largest element in [3, 2, 5, 1, 6, 4] is 5\n"
     ]
    }
   ],
   "source": [
    "\n",
    "def second_largest(lst, n):\n",
    "    i = 0\n",
    "    while True:\n",
    "        max_ = 0\n",
    "        max_idx = 0\n",
    "        for j in range(i, len(lst)):\n",
    "            if max_ < lst[j]:\n",
    "                max_ = lst[j]\n",
    "                max_idx = j\n",
    "        lst[i], lst[max_idx] = lst[max_idx], lst[i]\n",
    "        i += 1\n",
    "        n -= 1\n",
    "        if not n:\n",
    "            return max_\n",
    "\n",
    "lst = [3,2,5,1,6,4]\n",
    "print(f\"the second largest element in {lst} is : {second_largest(lst, 2)}\")"
   ]
  },
  {
   "cell_type": "markdown",
   "id": "a4750652",
   "metadata": {},
   "source": [
    "#### 6. Write a Python program to find N largest elements from a list?"
   ]
  },
  {
   "cell_type": "code",
   "execution_count": 87,
   "id": "57298963",
   "metadata": {},
   "outputs": [
    {
     "name": "stdout",
     "output_type": "stream",
     "text": [
      "The 4 largest numbers in [3, 2, 5, 1, 6, 4] are : \n",
      "1 : 6\n",
      "2 : 5\n",
      "3 : 4\n",
      "4 : 3\n"
     ]
    }
   ],
   "source": [
    "\n",
    "def largest_elements(lst, n):\n",
    "    for i in range(n):\n",
    "        max_ = 0\n",
    "        max_idx = 0\n",
    "        for j in range(i, len(lst)):\n",
    "            if max_ < lst[j]:\n",
    "                max_ = lst[j]\n",
    "                max_idx = j\n",
    "        lst[i], lst[max_idx] = lst[max_idx], lst[i]\n",
    "        print(f\"{i+1} : {max_}\")\n",
    "\n",
    "lst = [3,2,5,1,6,4]\n",
    "n = 4\n",
    "print(f\"The {n} largest numbers in {lst} are : \")\n",
    "largest_elements(lst, n)"
   ]
  },
  {
   "cell_type": "markdown",
   "id": "6a7beade",
   "metadata": {},
   "source": [
    "#### 7. Write a Python program to print even numbers in a list?"
   ]
  },
  {
   "cell_type": "code",
   "execution_count": 59,
   "id": "baee2aac",
   "metadata": {},
   "outputs": [
    {
     "name": "stdout",
     "output_type": "stream",
     "text": [
      "Even filtered list :  [2, 6, 4]\n"
     ]
    }
   ],
   "source": [
    "lst = [3,2,5,1,6,4]\n",
    "\n",
    "even_num = lambda x: x%2 == 0\n",
    "\n",
    "print(\"Even filtered list : \", list(filter(even_num, lst)))"
   ]
  },
  {
   "cell_type": "markdown",
   "id": "cfd9ac48",
   "metadata": {},
   "source": [
    "#### 8. Write a Python program to print odd numbers in a List?"
   ]
  },
  {
   "cell_type": "code",
   "execution_count": 60,
   "id": "c467c74a",
   "metadata": {},
   "outputs": [
    {
     "name": "stdout",
     "output_type": "stream",
     "text": [
      "Odd filtered list :  [3, 5, 1]\n"
     ]
    }
   ],
   "source": [
    "lst = [3,2,5,1,6,4]\n",
    "\n",
    "odd_num = lambda x: x%2 != 0\n",
    "\n",
    "print(\"Odd filtered list : \", list(filter(odd_num, lst)))"
   ]
  },
  {
   "cell_type": "markdown",
   "id": "c48fe172",
   "metadata": {},
   "source": [
    "#### 9. Write a Python program to Remove empty List from List?"
   ]
  },
  {
   "cell_type": "code",
   "execution_count": 67,
   "id": "94079cb4",
   "metadata": {},
   "outputs": [
    {
     "data": {
      "text/plain": [
       "[[2, 3], [1, 4, 3]]"
      ]
     },
     "execution_count": 67,
     "metadata": {},
     "output_type": "execute_result"
    }
   ],
   "source": [
    "lists = [[2,3], [], [1,4,3]]\n",
    "\n",
    "i = 0\n",
    "\n",
    "while i < len(lists):\n",
    "    if not lists[i]:\n",
    "        del lists[i]\n",
    "    else:\n",
    "        i += 1\n",
    "\n",
    "lists"
   ]
  },
  {
   "cell_type": "markdown",
   "id": "5b8859df",
   "metadata": {},
   "source": [
    "#### 10. Write a Python program to Cloning or Copying a list ?"
   ]
  },
  {
   "cell_type": "code",
   "execution_count": 84,
   "id": "3d8c3b2d",
   "metadata": {},
   "outputs": [
    {
     "name": "stdout",
     "output_type": "stream",
     "text": [
      "Original list : [3, 2, 5, 1, 6, 4]\n",
      "Copied list : [3, 2, 5, 1, 6, 4]\n",
      "deep copied list : [3, 2, 5, 1, 6, 4]\n",
      "Original list id : 1405230439424\n",
      "copied list id : 1405230439424\n",
      "deep copied list id : 1405230448384\n"
     ]
    }
   ],
   "source": [
    "import copy\n",
    "\n",
    "lst = [3,2,5,1,6,4]\n",
    "\n",
    "lst_copy = lst\n",
    "\n",
    "lst_deepcopy = copy.deepcopy(lst) # creates new memory space and copies each element\n",
    "\n",
    "print(f\"Original list : {lst}\")\n",
    "print(f\"Copied list : {lst_copy}\")\n",
    "print(f\"deep copied list : {lst_deepcopy}\")\n",
    "\n",
    "assert(id(lst) == id(lst_copy))  # id of shallow copied list is same, as it copies only reference\n",
    "\n",
    "print(f\"Original list id : {id(lst)}\")\n",
    "print(f\"copied list id : {id(lst_copy)}\")\n",
    "print(f\"deep copied list id : {id(lst_deepcopy)}\")"
   ]
  },
  {
   "cell_type": "markdown",
   "id": "a4299a86",
   "metadata": {},
   "source": [
    "#### 11. Write a Python program to Count occurrences of an element in a list?"
   ]
  },
  {
   "cell_type": "code",
   "execution_count": 74,
   "id": "99fbc5c5",
   "metadata": {},
   "outputs": [
    {
     "name": "stdout",
     "output_type": "stream",
     "text": [
      "The element 2 occured 3 time(s)\n"
     ]
    }
   ],
   "source": [
    "\n",
    "def count_(lst, e):\n",
    "    cnt = 0\n",
    "    for i in lst:\n",
    "        if i == e:\n",
    "            cnt += 1\n",
    "    return cnt\n",
    "\n",
    "lst = [3,2,1,5,1,6,2,4,2]\n",
    "e = 2\n",
    "\n",
    "print(f\"The element {e} occured {count_(lst, e)} time(s)\")"
   ]
  }
 ],
 "metadata": {
  "kernelspec": {
   "display_name": "Python 3 (ipykernel)",
   "language": "python",
   "name": "python3"
  },
  "language_info": {
   "codemirror_mode": {
    "name": "ipython",
    "version": 3
   },
   "file_extension": ".py",
   "mimetype": "text/x-python",
   "name": "python",
   "nbconvert_exporter": "python",
   "pygments_lexer": "ipython3",
   "version": "3.10.7"
  }
 },
 "nbformat": 4,
 "nbformat_minor": 5
}
