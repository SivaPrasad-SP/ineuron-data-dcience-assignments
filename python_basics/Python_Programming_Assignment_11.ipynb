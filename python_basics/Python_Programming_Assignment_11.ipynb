{
 "cells": [
  {
   "cell_type": "markdown",
   "id": "03adf631",
   "metadata": {},
   "source": [
    "#### 1. Write a Python program to find words which are greater than given length k ?"
   ]
  },
  {
   "cell_type": "code",
   "execution_count": 3,
   "id": "acdd1c44",
   "metadata": {},
   "outputs": [
    {
     "data": {
      "text/plain": [
       "\"The words greater than length 5 in the text are : ['Science', 'course']\""
      ]
     },
     "execution_count": 3,
     "metadata": {},
     "output_type": "execute_result"
    }
   ],
   "source": [
    "def check_str_len(text, limit):\n",
    "    words = text.split(\" \")\n",
    "    long_words = []\n",
    "    for word in words:\n",
    "        if len(word) > limit:\n",
    "            long_words.append(word)\n",
    "    return long_words\n",
    "\n",
    "text = \"Full Stack Data Science course\"\n",
    "length_limit = 5\n",
    "\n",
    "f\"The words greater than length {length_limit} in the text are : {check_str_len(text, length_limit)}\""
   ]
  },
  {
   "cell_type": "markdown",
   "id": "bac8fac9",
   "metadata": {},
   "source": [
    "#### 2. Write a Python program for removing i-th character from a string ?"
   ]
  },
  {
   "cell_type": "code",
   "execution_count": 6,
   "id": "26a83d2c",
   "metadata": {},
   "outputs": [
    {
     "data": {
      "text/plain": [
       "'After removing 7th character from Machine Learning : `MachineLearning`'"
      ]
     },
     "execution_count": 6,
     "metadata": {},
     "output_type": "execute_result"
    }
   ],
   "source": [
    "\n",
    "def remove_at_idx(str_, x):\n",
    "    new_str = \"\"\n",
    "    for idx, char in enumerate(str_):\n",
    "        if idx != x:\n",
    "            new_str += char\n",
    "    return new_str\n",
    "\n",
    "str_ = \"Machine Learning\"\n",
    "idx = 7\n",
    "\n",
    "f\"After removing {idx}th character from {str_} : `{remove_at_idx(str_, idx)}`\""
   ]
  },
  {
   "cell_type": "markdown",
   "id": "69dae287",
   "metadata": {},
   "source": [
    "#### 3. Write a Python program to split and join a string ?"
   ]
  },
  {
   "cell_type": "code",
   "execution_count": 9,
   "id": "0fb56926",
   "metadata": {},
   "outputs": [
    {
     "name": "stdout",
     "output_type": "stream",
     "text": [
      "splitting the string into list of words : ['Machine', 'Learning']\n",
      "\n",
      "Joining the words list to a string : MachineLearning\n"
     ]
    }
   ],
   "source": [
    "str_ = \"Machine Learning\"\n",
    "\n",
    "words = str_.split(\" \")\n",
    "print(f\"splitting the string into list of words : {words}\\n\")\n",
    "\n",
    "str_list_join = \"\".join(words)\n",
    "print(f\"Joining the words list to a string : {str_list_join}\")"
   ]
  },
  {
   "cell_type": "markdown",
   "id": "2263e29e",
   "metadata": {},
   "source": [
    "#### 4. Write a Python to check if a given string is binary string or not ?"
   ]
  },
  {
   "cell_type": "code",
   "execution_count": 15,
   "id": "597de60b",
   "metadata": {},
   "outputs": [
    {
     "name": "stdout",
     "output_type": "stream",
     "text": [
      "the string 0101010 is binary\n",
      "\n",
      "the string 1012010 is not binary\n",
      "\n"
     ]
    }
   ],
   "source": [
    "\n",
    "def is_binary(str_):\n",
    "    for i in str_:\n",
    "        if i != '0' and i != '1':\n",
    "            return f\"the string {str_} is not binary\\n\"\n",
    "    return  f\"the string {str_} is binary\\n\"\n",
    "\n",
    "print(is_binary(\"0101010\"))\n",
    "print(is_binary(\"1012010\"))"
   ]
  },
  {
   "cell_type": "markdown",
   "id": "55dc0074",
   "metadata": {},
   "source": [
    "#### 5. Write a Python program to find uncommon words from two Strings ?"
   ]
  },
  {
   "cell_type": "code",
   "execution_count": 30,
   "id": "98a6876e",
   "metadata": {},
   "outputs": [
    {
     "name": "stdout",
     "output_type": "stream",
     "text": [
      "The uncommon words of both strings are : {'part', 'Art', 'field', 'and', 'Data'}\n"
     ]
    }
   ],
   "source": [
    "text_1 = \"Machine Learning is a field of Art and Science\"\n",
    "text_2 = \"Machine Learning is a part of Data Science\"\n",
    "\n",
    "# converting the list of words to set, to utilize set functions.\n",
    "\n",
    "text_1_words = set(text_1.split(\" \"))\n",
    "text_2_words = set(text_2.split(\" \"))\n",
    "\n",
    "# set.intersection gives the common words of two lists\n",
    "common_words = text_1_words.intersection(text_2_words)\n",
    "\n",
    "# uncommon words = union of two lists - intersection\n",
    "uncommon_words = text_1_words.union(text_2_words) - common_words\n",
    "\n",
    "print(f\"The uncommon words of both strings are : {uncommon_words}\")"
   ]
  },
  {
   "cell_type": "markdown",
   "id": "6b7357af",
   "metadata": {},
   "source": [
    "#### 6. Write a Python to find all duplicate characters in string ?"
   ]
  },
  {
   "cell_type": "code",
   "execution_count": 27,
   "id": "d073864f",
   "metadata": {},
   "outputs": [
    {
     "name": "stdout",
     "output_type": "stream",
     "text": [
      "The duplicates of SivaPrasad are : ['s', 'a']\n"
     ]
    }
   ],
   "source": [
    "\n",
    "def duplicates(str_):\n",
    "    dups = []\n",
    "    str_ = str_.lower()\n",
    "    for i in str_:\n",
    "        if (str_.count(i) > 1) and (i not in dups):\n",
    "            dups.append(i)\n",
    "    return dups\n",
    "\n",
    "str_ = \"SivaPrasad\"\n",
    "\n",
    "print(f\"The duplicates of {str_} are : {duplicates(str_)}\")"
   ]
  },
  {
   "cell_type": "markdown",
   "id": "3e50f0a7",
   "metadata": {},
   "source": [
    "#### 7. Write a Python Program to check if a string contains any special character ?"
   ]
  },
  {
   "cell_type": "code",
   "execution_count": 17,
   "id": "dedff6b2",
   "metadata": {},
   "outputs": [
    {
     "name": "stdout",
     "output_type": "stream",
     "text": [
      "There are 4 SPecial chars in `my email is \"test@mail.com\"`, those are : ['\"', '@', '.', '\"']\n"
     ]
    }
   ],
   "source": [
    "\n",
    "special_chars_ = \"\"\",!:?;'\"\"'`.-~[{()}]|\\/*@!#$%^&\"\"\"\n",
    "\n",
    "def special_chars(text):\n",
    "    sp_chars = []\n",
    "    for char in text:\n",
    "        if char in special_chars_:\n",
    "            sp_chars.append(char)\n",
    "    return f\"There are {len(sp_chars)} SPecial chars in `{text}`, those are : {sp_chars}\"\n",
    "\n",
    "text = 'my email is \"test@mail.com\"'\n",
    "\n",
    "print(special_chars(text))"
   ]
  }
 ],
 "metadata": {
  "kernelspec": {
   "display_name": "Python 3 (ipykernel)",
   "language": "python",
   "name": "python3"
  },
  "language_info": {
   "codemirror_mode": {
    "name": "ipython",
    "version": 3
   },
   "file_extension": ".py",
   "mimetype": "text/x-python",
   "name": "python",
   "nbconvert_exporter": "python",
   "pygments_lexer": "ipython3",
   "version": "3.10.7"
  }
 },
 "nbformat": 4,
 "nbformat_minor": 5
}
