{
 "cells": [
  {
   "cell_type": "markdown",
   "id": "280bd9b9",
   "metadata": {},
   "source": [
    "#### Q1. Write a Python program to Extract Unique values dictionary values ?"
   ]
  },
  {
   "cell_type": "code",
   "execution_count": 29,
   "id": "e797e1f9",
   "metadata": {},
   "outputs": [
    {
     "data": {
      "text/plain": [
       "\"Unique values of dictionary {'B': 2, 'A': 3, 'D': 2, 'C': 1} are : {1, 2, 3}\""
      ]
     },
     "execution_count": 29,
     "metadata": {},
     "output_type": "execute_result"
    }
   ],
   "source": [
    "ranks_dict = {'B': 2, 'A': 3, 'D': 2, 'C': 1}\n",
    "\n",
    "f\"Unique values of dictionary {ranks_dict} are : {set(ranks_dict.values())}\""
   ]
  },
  {
   "cell_type": "markdown",
   "id": "d55e0038",
   "metadata": {},
   "source": [
    "#### Q2. Write a Python program to find the sum of all items in a dictionary ?"
   ]
  },
  {
   "cell_type": "code",
   "execution_count": 11,
   "id": "af10109e",
   "metadata": {},
   "outputs": [
    {
     "data": {
      "text/plain": [
       "\"Sum of values of dictionary {'B': 2, 'A': 1, 'D': 4, 'C': 2} are : 9\""
      ]
     },
     "execution_count": 11,
     "metadata": {},
     "output_type": "execute_result"
    }
   ],
   "source": [
    "ranks_dict = {'B': 2, 'A': 1, 'D': 4, 'C': 2}\n",
    "\n",
    "sum_of_dict = sum(ranks_dict.values())\n",
    "\n",
    "f\"Sum of values of dictionary {ranks_dict} are : {sum_of_dict}\""
   ]
  },
  {
   "cell_type": "markdown",
   "id": "f0304bf0",
   "metadata": {},
   "source": [
    "#### Q3. Write a Python program to Merging two Dictionaries ?"
   ]
  },
  {
   "cell_type": "code",
   "execution_count": 17,
   "id": "1e37c049",
   "metadata": {},
   "outputs": [
    {
     "name": "stdout",
     "output_type": "stream",
     "text": [
      "Method_1 to merge dicts : {'B': 2, 'A': 1, 'D': 4, 'C': 2, 'E': 5, 'G': 7, 'F': 5, 'H': 8}, supports in python 3.9\n",
      "Method_2 to merge dicts : {'B': 2, 'A': 1, 'D': 4, 'C': 2, 'E': 5, 'G': 7, 'F': 5, 'H': 8}\n"
     ]
    }
   ],
   "source": [
    "ranks_dict_1 = {'B': 2, 'A': 1, 'D': 4, 'C': 2}\n",
    "ranks_dict_2 = {'E': 5, 'G': 7, 'F': 5, 'H': 8}\n",
    "\n",
    "print(f\"Method_1 to merge dicts : {ranks_dict_1 | ranks_dict_2}, supports in python 3.9\")\n",
    "\n",
    "ranks_dict_1.update(ranks_dict_2)\n",
    "print(f\"Method_2 to merge dicts : {ranks_dict_1}\")"
   ]
  },
  {
   "cell_type": "markdown",
   "id": "30e256f1",
   "metadata": {},
   "source": [
    "#### Q4. Write a Python program to convert key-values list to flat dictionary ?"
   ]
  },
  {
   "cell_type": "code",
   "execution_count": 27,
   "id": "65eaf753",
   "metadata": {},
   "outputs": [
    {
     "name": "stdout",
     "output_type": "stream",
     "text": [
      "key value pairs to dict : {'B': 2, 'A': 1, 'D': 4, 'C': 2}\n"
     ]
    }
   ],
   "source": [
    "# list of tuples as key-value pairs\n",
    "rank_key_values = [('B', 2), ('A', 1), ('D', 4), ('C', 2)]\n",
    "\n",
    "ranks_dict = {}\n",
    "\n",
    "ranks_dict = {key: value for key, value in rank_key_values}\n",
    "\n",
    "print(f\"key value pairs to dict : {ranks_dict}\")"
   ]
  },
  {
   "cell_type": "markdown",
   "id": "c901b23c",
   "metadata": {},
   "source": [
    "#### Q5. Write a Python program to insertion at the beginning in OrderedDict ?"
   ]
  },
  {
   "cell_type": "code",
   "execution_count": 35,
   "id": "e632f6cf",
   "metadata": {},
   "outputs": [
    {
     "name": "stdout",
     "output_type": "stream",
     "text": [
      "('E', 3) is added to ranks_dict: OrderedDict([('B', 2), ('A', 1), ('D', 4), ('C', 2), ('E', 3)])\n",
      "('E', 3) is inserted at begining of ranks_dict: OrderedDict([('E', 3), ('B', 2), ('A', 1), ('D', 4), ('C', 2)])\n"
     ]
    }
   ],
   "source": [
    "# An OrderedDict is a dictionary subclass that remembers the order that keys were first inserted, but dict don't\n",
    "\n",
    "# Move an existing key to either end of an ordered dictionary\n",
    "\n",
    "from collections import OrderedDict\n",
    "\n",
    "ranks_dict = OrderedDict({'B': 2, 'A': 1, 'D': 4, 'C': 2})\n",
    "\n",
    "new_key_val = ('E', 3)\n",
    "\n",
    "ranks_dict.update({new_key_val[0]: new_key_val[1]})\n",
    "\n",
    "print(f\"{new_key_val} is added to ranks_dict: {ranks_dict}\")\n",
    "\n",
    "ranks_dict.move_to_end(new_key_val[0], last = False)\n",
    "\n",
    "print(f\"{new_key_val} is inserted at begining of ranks_dict: {ranks_dict}\")"
   ]
  },
  {
   "cell_type": "markdown",
   "id": "31912129",
   "metadata": {},
   "source": [
    "#### Q6. Write a Python program to check order of character in string using OrderedDict() ?"
   ]
  },
  {
   "cell_type": "code",
   "execution_count": 71,
   "id": "bee28734",
   "metadata": {},
   "outputs": [
    {
     "name": "stdout",
     "output_type": "stream",
     "text": [
      "Dict in the Order of char : OrderedDict([('A', 3), ('B', 2), ('C', 1), ('D', 2)])\n"
     ]
    }
   ],
   "source": [
    "ranks_dict = {'B': 2, 'A': 3, 'D': 2, 'C': 1}\n",
    "\n",
    "print(f\"Dict in the Order of char : {OrderedDict(sorted(ranks_dict.items()))}\")"
   ]
  },
  {
   "cell_type": "markdown",
   "id": "3becfaf0",
   "metadata": {},
   "source": [
    "#### Q7. Write a Python program to sort Python Dictionaries by Key or Value ?"
   ]
  },
  {
   "cell_type": "code",
   "execution_count": 31,
   "id": "911c9d58",
   "metadata": {},
   "outputs": [
    {
     "data": {
      "text/plain": [
       "[('C', 1), ('B', 2), ('D', 2), ('A', 3)]"
      ]
     },
     "execution_count": 31,
     "metadata": {},
     "output_type": "execute_result"
    }
   ],
   "source": [
    "# reference : https://docs.python.org/3/howto/sorting.html\n",
    "\n",
    "def dict_sort(dict_, is_key=True):\n",
    "    if is_key:\n",
    "        return sorted(dict_.items(), key=lambda kv: kv[0])\n",
    "    else:\n",
    "        return sorted(dict_.items(), key=lambda kv: kv[1])\n",
    "\n",
    "ranks_dict = {'B': 2, 'A': 3, 'D': 2, 'C': 1}\n",
    "\n",
    "dict_sort(ranks_dict, is_key=False)"
   ]
  }
 ],
 "metadata": {
  "kernelspec": {
   "display_name": "Python 3 (ipykernel)",
   "language": "python",
   "name": "python3"
  },
  "language_info": {
   "codemirror_mode": {
    "name": "ipython",
    "version": 3
   },
   "file_extension": ".py",
   "mimetype": "text/x-python",
   "name": "python",
   "nbconvert_exporter": "python",
   "pygments_lexer": "ipython3",
   "version": "3.10.7"
  }
 },
 "nbformat": 4,
 "nbformat_minor": 5
}
