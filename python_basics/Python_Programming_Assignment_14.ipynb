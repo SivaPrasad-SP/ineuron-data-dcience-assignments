{
 "cells": [
  {
   "cell_type": "markdown",
   "id": "92e897eb",
   "metadata": {},
   "source": [
    "#### Q1. Define a class with a generator which can iterate the numbers, which are divisible by 7, between a given range 0 and n."
   ]
  },
  {
   "cell_type": "code",
   "execution_count": 11,
   "id": "449fb005",
   "metadata": {},
   "outputs": [
    {
     "name": "stdout",
     "output_type": "stream",
     "text": [
      "gen is of type : <class '__main__.Gen'>, & itr is of type : <class 'generator'>\n",
      "first item : 7\n",
      "next item : 14\n",
      "next item : 21\n"
     ]
    }
   ],
   "source": [
    "class Gen:\n",
    "    def __init__(self, n):\n",
    "        self.n = n\n",
    "    \n",
    "    def generate(self):\n",
    "        for i in range(1, self.n):\n",
    "            if i%7 == 0:\n",
    "                yield i\n",
    "\n",
    "gen = Gen(100)\n",
    "itr = gen.generate()\n",
    "\n",
    "print(f\"gen is of type : {type(gen)}, & itr is of type : {type(itr)}\")\n",
    "\n",
    "# print(list(itr))  # this will print : [7, 14, 21, 28, 35, 42, 49, 56, 63, 70, 77, 84, 91, 98]\n",
    "\n",
    "print(f\"first item : {next(itr)}\")\n",
    "print(f\"next item : {next(itr)}\")\n",
    "print(f\"next item : {next(itr)}\")"
   ]
  },
  {
   "cell_type": "markdown",
   "id": "d8f9b7dc",
   "metadata": {},
   "source": [
    "#### Q2. Write a program to compute the frequency of the words from the input. The output should output after sorting the key alphanumerically."
   ]
  },
  {
   "cell_type": "code",
   "execution_count": 23,
   "id": "706d4bfb",
   "metadata": {},
   "outputs": [
    {
     "name": "stdout",
     "output_type": "stream",
     "text": [
      ">> The occurences of words of given text : \n"
     ]
    },
    {
     "data": {
      "text/plain": [
       "{'new': 1,\n",
       " 'to': 1,\n",
       " 'python': 5,\n",
       " 'or': 2,\n",
       " 'choosing': 1,\n",
       " 'between': 1,\n",
       " '2': 2,\n",
       " 'and': 1,\n",
       " '3?': 1,\n",
       " 'read': 1,\n",
       " '3.': 1}"
      ]
     },
     "execution_count": 23,
     "metadata": {},
     "output_type": "execute_result"
    }
   ],
   "source": [
    "text = \"New to Python or choosing between Python 2 and Python 3? Read Python 2 or Python 3.\".lower()\n",
    "words = text.split(\" \")\n",
    "\n",
    "print(\">> The occurences of words of given text : \")\n",
    "\n",
    "word_count = {}\n",
    "\n",
    "for word in words:\n",
    "    word_count[word] = word_count.get(word, 0) + 1\n",
    "word_count"
   ]
  },
  {
   "cell_type": "markdown",
   "id": "f0cd838b",
   "metadata": {},
   "source": [
    "#### Q3. Define a class Person and its two child classes: Male and Female. All classes have a method &quot;getGender&quot; which can print &quot;Male&quot; for Male class and &quot;Female&quot; for Female class."
   ]
  },
  {
   "cell_type": "code",
   "execution_count": 31,
   "id": "4fb015b3",
   "metadata": {},
   "outputs": [
    {
     "name": "stdout",
     "output_type": "stream",
     "text": [
      "I am Raj & I am Male\n",
      "I am Rani & I am Female\n"
     ]
    }
   ],
   "source": [
    "class Person:\n",
    "    def __init__(self, name):\n",
    "        self.name = name\n",
    "        \n",
    "    def gender(self):\n",
    "        pass\n",
    "\n",
    "class Male(Person):\n",
    "    def gender(self):\n",
    "        print(f\"I am {self.name} & I am Male\")\n",
    "\n",
    "class Female(Person):\n",
    "    def gender(self):\n",
    "        print(f\"I am {self.name} & I am Female\")\n",
    "\n",
    "person_1 = Male(\"Raj\")\n",
    "person_1.gender()\n",
    "\n",
    "person_2 = Female(\"Rani\")\n",
    "person_2.gender()"
   ]
  },
  {
   "cell_type": "markdown",
   "id": "fa7a8d9a",
   "metadata": {},
   "source": [
    "#### Q4. write a program to generate all sentences where subject is in [\"I\", \"You\"] and verb is in [\"Play\", \"Love\"] and the object is in [\"Hockey\",\"Football\"]"
   ]
  },
  {
   "cell_type": "code",
   "execution_count": 36,
   "id": "9dd14a41",
   "metadata": {},
   "outputs": [
    {
     "name": "stdout",
     "output_type": "stream",
     "text": [
      "I Play Hockey\n",
      "I Play Football\n",
      "I Love Hockey\n",
      "I Love Football\n",
      "You Play Hockey\n",
      "You Play Football\n",
      "You Love Hockey\n",
      "You Love Football\n"
     ]
    }
   ],
   "source": [
    "import itertools\n",
    "\n",
    "subjects = ['I','You']\n",
    "verbs = ['Play','Love']\n",
    "objects = ['Hockey','Football']\n",
    "\n",
    "for sen_tuple in list(itertools.product(subjects, verbs, objects)):\n",
    "    print(\" \".join(sen_tuple))"
   ]
  },
  {
   "cell_type": "markdown",
   "id": "9204a4dc",
   "metadata": {},
   "source": [
    "#### Q5. write a program to compress and decompress the string \"hello world!hello world!hello world!hello world!\""
   ]
  },
  {
   "cell_type": "code",
   "execution_count": 49,
   "id": "9274f818",
   "metadata": {},
   "outputs": [
    {
     "name": "stdout",
     "output_type": "stream",
     "text": [
      "Given string : hello world!hello world!hello world!hello world!, it's size is : 97\n",
      "Compressed string : b'x\\x9c\\xcbH\\xcd\\xc9\\xc9W(\\xcf/\\xcaIQ\\xcc \\x82\\r\\x00\\xbd[\\x11\\xf5', it's size is : 56\n",
      "DeCompressed string : hello world!hello world!hello world!hello world!, it's size is : 97\n"
     ]
    }
   ],
   "source": [
    "import zlib    # for compressing & decompressing\n",
    "import sys     # to check the size of variables\n",
    "\n",
    "string = \"hello world!hello world!hello world!hello world!\"\n",
    "\n",
    "print(f\"Given string : {string}, it's size is : {sys.getsizeof(string)}\")\n",
    "\n",
    "compressed_string = zlib.compress(string.encode()) # compress expects bytes object, so we have to encode the string\n",
    "\n",
    "print(f\"Compressed string : {compressed_string}, it's size is : {sys.getsizeof(compressed_string)}\")\n",
    "\n",
    "decompressed_str = zlib.decompress(compressed_string).decode()\n",
    "\n",
    "print(f\"DeCompressed string : {decompressed_str}, it's size is : {sys.getsizeof(decompressed_str)}\")\n",
    "\n",
    "assert decompressed_str == string, \"given string is not properly decompressed\""
   ]
  },
  {
   "cell_type": "markdown",
   "id": "293476b8",
   "metadata": {},
   "source": [
    "#### Q6. write a binary search function which searches an item in a sorted list. The function should return the index of element to be searched in the list."
   ]
  },
  {
   "cell_type": "code",
   "execution_count": 10,
   "id": "2e6f0674",
   "metadata": {},
   "outputs": [
    {
     "name": "stdout",
     "output_type": "stream",
     "text": [
      "The element 6 found at index 3\n",
      "The element 16 is not found in given list.\n"
     ]
    }
   ],
   "source": [
    "\n",
    "def binary_search(arr, e, low, high):\n",
    "    if low <= high:\n",
    "        mid = (low + high)//2\n",
    "        \n",
    "        if arr[mid] == e:\n",
    "            return f\"The element {e} found at index {mid}\"\n",
    "        elif e < arr[mid]:\n",
    "            return binary_search(arr, e, low, mid-1)\n",
    "        else:\n",
    "            return binary_search(arr, e, mid+1, high)\n",
    "    else:\n",
    "        return f\"The element {e} is not found in given list.\"\n",
    "\n",
    "arr = [2,3,4,6,7,9]\n",
    "\n",
    "print(binary_search(arr, 6, 0, len(arr)-1))\n",
    "print(binary_search(arr, 16, 0, len(arr)-1))"
   ]
  }
 ],
 "metadata": {
  "kernelspec": {
   "display_name": "Python 3 (ipykernel)",
   "language": "python",
   "name": "python3"
  },
  "language_info": {
   "codemirror_mode": {
    "name": "ipython",
    "version": 3
   },
   "file_extension": ".py",
   "mimetype": "text/x-python",
   "name": "python",
   "nbconvert_exporter": "python",
   "pygments_lexer": "ipython3",
   "version": "3.9.2"
  }
 },
 "nbformat": 4,
 "nbformat_minor": 5
}
