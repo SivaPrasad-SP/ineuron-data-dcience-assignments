{
 "cells": [
  {
   "cell_type": "markdown",
   "id": "82f584f9",
   "metadata": {},
   "source": [
    "#### Q1. Please write a program using generator to print the numbers which can be divisible by 5 and 7 between 0 and n in comma separated form while n is input by console ?"
   ]
  },
  {
   "cell_type": "code",
   "execution_count": 11,
   "id": "24c3d73d",
   "metadata": {},
   "outputs": [
    {
     "name": "stdout",
     "output_type": "stream",
     "text": [
      "Enter an integer greater than 0 : 100\n",
      "The Numbers divisible by 5 & 7, between 0 & 100 are : 0, 35, 70, "
     ]
    }
   ],
   "source": [
    "def show_5_7_multiples(n):\n",
    "    for i in range(n):\n",
    "        if i%5 == 0 and i%7 == 0:\n",
    "            yield i\n",
    "\n",
    "n = int(input(\"Enter an integer greater than 0 : \"))\n",
    "\n",
    "result = show_5_7_multiples(n)\n",
    "\n",
    "print(f\"The Numbers divisible by 5 & 7, between 0 & {n} are : \", end=\"\")\n",
    "for val in result:\n",
    "    print(val, end=\", \")"
   ]
  },
  {
   "cell_type": "markdown",
   "id": "103367ab",
   "metadata": {},
   "source": [
    "#### Q2 Please write a program using generator to print the even numbers between 0 and n in comma separated form while n is input by console ?"
   ]
  },
  {
   "cell_type": "code",
   "execution_count": 12,
   "id": "9e507adf",
   "metadata": {},
   "outputs": [
    {
     "name": "stdout",
     "output_type": "stream",
     "text": [
      "Enter an integer greater than 0 : 100\n",
      "The Numbers divisible by 5 & 7, between 0 & 100 are : 0, 2, 4, 6, 8, 10, 12, 14, 16, 18, 20, 22, 24, 26, 28, 30, 32, 34, 36, 38, 40, 42, 44, 46, 48, 50, 52, 54, 56, 58, 60, 62, 64, 66, 68, 70, 72, 74, 76, 78, 80, 82, 84, 86, 88, 90, 92, 94, 96, 98, "
     ]
    }
   ],
   "source": [
    "def show_even_numbers(n):\n",
    "    for i in range(n):\n",
    "        if i%2 == 0:\n",
    "            yield i\n",
    "\n",
    "n = int(input(\"Enter an integer greater than 0 : \"))\n",
    "\n",
    "result = show_even_numbers(n)\n",
    "\n",
    "print(f\"The Numbers divisible by 5 & 7, between 0 & {n} are : \", end=\"\")\n",
    "for val in result:\n",
    "    print(val, end=\", \")"
   ]
  },
  {
   "cell_type": "markdown",
   "id": "020fb219",
   "metadata": {},
   "source": [
    "#### Q3. The Fibonacci Sequence is computed based on the following formula below, Please write a program using list comprehension to print the Fibonacci Sequence in comma separated form with a given n input by console ?"
   ]
  },
  {
   "cell_type": "markdown",
   "id": "f7799b8e",
   "metadata": {},
   "source": [
    "`f(n)=0 if n=0 f(n)=1 if n=1 f(n)=f(n-1)+f(n-2) if n>1`"
   ]
  },
  {
   "cell_type": "code",
   "execution_count": 27,
   "id": "29bc584d",
   "metadata": {},
   "outputs": [
    {
     "name": "stdout",
     "output_type": "stream",
     "text": [
      "15 fibanocci numbers are : 0, 1, 1, 2, 3, 5, 8, 13, 21, 34, 55, 89, 144, 233, 377, 610, 987, 1597, 2584, 4181, "
     ]
    }
   ],
   "source": [
    "n = 15\n",
    "\n",
    "print(f\"{n} fibanocci numbers are : \", end=\"\")\n",
    "a,b = 0,1\n",
    "for i in range(20):\n",
    "    print(a, end=\", \")\n",
    "    a,b = b,a+b"
   ]
  },
  {
   "cell_type": "markdown",
   "id": "e94026ea",
   "metadata": {},
   "source": [
    "#### Q4. Assuming that we have some email addresses in the \"username@companyname.com\" format, please write program to print the user name of a given email address. Both user names and company names are composed of letters only ?"
   ]
  },
  {
   "cell_type": "markdown",
   "id": "9103b2cc",
   "metadata": {},
   "source": [
    "Example:\n",
    "If the following email address is given as input to the program: john@google.com\n",
    "Then, the output of the program should be: john"
   ]
  },
  {
   "cell_type": "code",
   "execution_count": 38,
   "id": "61e53e99",
   "metadata": {
    "scrolled": true
   },
   "outputs": [
    {
     "name": "stdout",
     "output_type": "stream",
     "text": [
      "UserName is john & ComapanyName is google in email : john@google.com\n",
      "UserName is shiva & ComapanyName is sp in email : shiva@sp.com\n"
     ]
    }
   ],
   "source": [
    "def namesInEmail(email):\n",
    "    names_list = email.split('@')\n",
    "    userName = names_list[0]\n",
    "    comapanyName = names_list[1].split('.')[0]\n",
    "    \n",
    "    return f\"UserName is {userName} & ComapanyName is {comapanyName} in email : {email}\"\n",
    "\n",
    "print(namesInEmail('john@google.com'))\n",
    "print(namesInEmail('shiva@sp.com'))"
   ]
  },
  {
   "cell_type": "markdown",
   "id": "2be8770e",
   "metadata": {},
   "source": [
    "#### Q5. Define a class named Shape and its subclass Square. The Square class has an init function which takes a length as argument. Both classes have a area function which can print the area of the shape where Shape's area is 0 by default."
   ]
  },
  {
   "cell_type": "code",
   "execution_count": 43,
   "id": "e85f3bc1",
   "metadata": {},
   "outputs": [
    {
     "name": "stdout",
     "output_type": "stream",
     "text": [
      "Area of Square : 2500\n",
      "Area of Shape : 0\n"
     ]
    }
   ],
   "source": [
    "class Shape:\n",
    "    def area(self):\n",
    "        return 0\n",
    "\n",
    "# Square inherits Shape\n",
    "class Square(Shape):\n",
    "    def __init__(self, length):\n",
    "        self.length = length\n",
    "    \n",
    "    def area(self):\n",
    "        return self.length*self.length\n",
    "\n",
    "square = Square(50)\n",
    "print(f\"Area of Square : {square.area()}\")\n",
    "\n",
    "shape = Shape()\n",
    "print(f\"Area of Shape : {shape.area()}\")"
   ]
  }
 ],
 "metadata": {
  "kernelspec": {
   "display_name": "Python 3 (ipykernel)",
   "language": "python",
   "name": "python3"
  },
  "language_info": {
   "codemirror_mode": {
    "name": "ipython",
    "version": 3
   },
   "file_extension": ".py",
   "mimetype": "text/x-python",
   "name": "python",
   "nbconvert_exporter": "python",
   "pygments_lexer": "ipython3",
   "version": "3.9.2"
  }
 },
 "nbformat": 4,
 "nbformat_minor": 5
}
