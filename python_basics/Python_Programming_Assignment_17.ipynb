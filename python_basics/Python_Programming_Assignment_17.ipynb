{
 "cells": [
  {
   "cell_type": "markdown",
   "id": "86c4e861",
   "metadata": {},
   "source": [
    "#### Q1. Create a function that takes three arguments a, b, c and returns the sum of the numbers that are evenly divided by c from the range a, b inclusive ?\n",
    "\n",
    "__Examples:__  \n",
    "`evenly_divisible(1, 10, 20) ➞ 0\n",
    "    # No number between 1 and 10 can be evenly divided by 20.\n",
    "evenly_divisible(1, 10, 2) ➞ 30\n",
    "    # 2 + 4 + 6 + 8 + 10 = 30\n",
    "evenly_divisible(1, 10, 3) ➞ 18\n",
    "    # 3 + 6 + 9 = 18`"
   ]
  },
  {
   "cell_type": "code",
   "execution_count": 2,
   "id": "b9f60e1c",
   "metadata": {},
   "outputs": [
    {
     "name": "stdout",
     "output_type": "stream",
     "text": [
      "Sum of the numbers between 1 to 10 that are evenly divided by 20 is : 0\n",
      "Sum of the numbers between 1 to 10 that are evenly divided by 2 is : 30\n",
      "Sum of the numbers between 1 to 10 that are evenly divided by 3 is : 18\n"
     ]
    }
   ],
   "source": [
    "def evenly_divisible(a,b,c):\n",
    "    sum_ = 0\n",
    "    for i in range(a, b+1):\n",
    "        if i%c == 0:\n",
    "            sum_ += i\n",
    "    print(f\"Sum of the numbers between {a} to {b} that are evenly divided by {c} is : {sum_}\")\n",
    "\n",
    "evenly_divisible(1,10,20)\n",
    "evenly_divisible(1,10,2)\n",
    "evenly_divisible(1,10,3)"
   ]
  },
  {
   "cell_type": "markdown",
   "id": "8589ab33",
   "metadata": {},
   "source": [
    "#### Q2. Create a function that returns True if a given inequality expression is correct and False otherwise ?\n",
    "__Examples:__  \n",
    "`correct_signs(\"3 < 7 < 11\") ➞ True`  \n",
    "`correct_signs(\"13 > 44 > 33 > 1\") ➞ False`  \n",
    "`correct_signs(\"1 < 2 < 6 < 9 > 3\") ➞ True`"
   ]
  },
  {
   "cell_type": "code",
   "execution_count": 7,
   "id": "0021eeb2",
   "metadata": {},
   "outputs": [
    {
     "name": "stdout",
     "output_type": "stream",
     "text": [
      "3 < 7 < 11 is True\n",
      "13 > 44 > 33 > 1 is False\n",
      "1 < 2 < 6 < 9 > 3 is True\n"
     ]
    }
   ],
   "source": [
    "def correct_signs(expr):\n",
    "    return f\"{expr} is {eval(expr)}\"\n",
    "\n",
    "print(correct_signs(\"3 < 7 < 11\"))\n",
    "print(correct_signs(\"13 > 44 > 33 > 1\"))\n",
    "print(correct_signs(\"1 < 2 < 6 < 9 > 3\"))"
   ]
  },
  {
   "cell_type": "markdown",
   "id": "d7200223",
   "metadata": {},
   "source": [
    "#### Q3. Create a function that replaces all the vowels in a string with a specified character ?\n",
    "__Examples:__  \n",
    "`replace_vowels(\"the aardvark\", \"#\") ➞ \"th# ##rdv#rk\"`  \n",
    "`replace_vowels(\"minnie mouse\", \"?\") ➞ \"m?nn?? m??s?\"`  \n",
    "`replace_vowels(\"shakespeare\", \"*\") ➞ \"shksp**r\"`"
   ]
  },
  {
   "cell_type": "code",
   "execution_count": 12,
   "id": "e83aad2e",
   "metadata": {},
   "outputs": [
    {
     "name": "stdout",
     "output_type": "stream",
     "text": [
      "the aardvark is changed to th# ##rdv#rk\n",
      "minnie mouse is changed to m?nn?? m??s?\n",
      "shakespeare is changed to sh*k*sp**r*\n"
     ]
    }
   ],
   "source": [
    "def replace_vowels(str_, char_):\n",
    "    vowels = ['a','e','i','o','u'] # 'A','E','I','O','U'\n",
    "    new_str_ = str_\n",
    "    for ch in str_:\n",
    "        if (ch in vowels) or (ch.lower() in vowels):\n",
    "            new_str_ = new_str_.replace(ch, char_)\n",
    "    return f\"{str_} is changed to {new_str_}\"\n",
    "\n",
    "print(replace_vowels(\"the aardvark\", \"#\"))\n",
    "print(replace_vowels(\"minnie mouse\", \"?\"))\n",
    "print(replace_vowels(\"shakespeare\", \"*\"))"
   ]
  },
  {
   "cell_type": "markdown",
   "id": "4c343c6e",
   "metadata": {},
   "source": [
    "#### Q4. Write a function that calculates the factorial of a number recursively ?\n",
    "__Examples:__  \n",
    "`factorial(5) ➞ 120`  \n",
    "`factorial(3) ➞ 6`  \n",
    "`factorial(1) ➞ 1`  \n",
    "`factorial(0) ➞ 1`  "
   ]
  },
  {
   "cell_type": "code",
   "execution_count": 16,
   "id": "4d026831",
   "metadata": {},
   "outputs": [
    {
     "name": "stdout",
     "output_type": "stream",
     "text": [
      "factorial(5) is : 120\n",
      "factorial(3) is : 6\n",
      "factorial(1) is : 1\n",
      "factorial(0) is : 1\n"
     ]
    }
   ],
   "source": [
    "\n",
    "def factorial(n):\n",
    "    if n==0 or n==1:\n",
    "        return 1\n",
    "    return n * factorial(n-1)\n",
    "\n",
    "print(f'factorial(5) is : {factorial(5)}')\n",
    "print(f'factorial(3) is : {factorial(3)}')\n",
    "print(f'factorial(1) is : {factorial(1)}')\n",
    "print(f'factorial(0) is : {factorial(0)}')"
   ]
  },
  {
   "cell_type": "markdown",
   "id": "a0d0b57f",
   "metadata": {},
   "source": [
    "#### Q5. Hamming distance is the number of characters that differ between two strings ?\n",
    "\n",
    "To illustrate:  \n",
    "    `String1: \"abcbba\"`  \n",
    "    `String2: \"abcbda\"`  \n",
    "Hamming Distance: 1 - \"b\" vs. \"d\" is the only difference.  \n",
    "Create a function that computes the hamming distance between two strings.  \n",
    "**Examples:**  \n",
    "`hamming_distance(\"abcde\", \"bcdef\") ➞ 5`  \n",
    "`hamming_distance(\"abcde\", \"abcde\") ➞ 0`  \n",
    "`hamming_distance(\"strong\", \"strung\") ➞ 1`  "
   ]
  },
  {
   "cell_type": "code",
   "execution_count": 21,
   "id": "709de9ff",
   "metadata": {},
   "outputs": [
    {
     "name": "stdout",
     "output_type": "stream",
     "text": [
      "Hamming Distance b/w abcbba & abcbda is : 1\n",
      "Hamming Distance b/w abcde & bcdef is : 5\n",
      "Hamming Distance b/w abcde & abcde is : 0\n",
      "Hamming Distance b/w strong & strung is : 1\n"
     ]
    }
   ],
   "source": [
    "def hamming_distance(word1, word2):\n",
    "    if word1 == word2:\n",
    "        return f\"Hamming Distance b/w {word1} & {word2} is : 0\"\n",
    "    max_len = len(word1) if len(word1) > len(word2) else len(word2)\n",
    "    \n",
    "    cnt = 0\n",
    "    for i in range(max_len):\n",
    "        try:\n",
    "            if word1[i] != word2[i]:\n",
    "                cnt += 1\n",
    "        except:\n",
    "            cnt += 1\n",
    "    return f\"Hamming Distance b/w {word1} & {word2} is : {cnt}\"\n",
    "\n",
    "print(hamming_distance(\"abcbba\", \"abcbda\"))\n",
    "print(hamming_distance(\"abcde\", \"bcdef\"))\n",
    "print(hamming_distance(\"abcde\", \"abcde\"))\n",
    "print(hamming_distance(\"strong\", \"strung\"))"
   ]
  }
 ],
 "metadata": {
  "kernelspec": {
   "display_name": "Python 3 (ipykernel)",
   "language": "python",
   "name": "python3"
  },
  "language_info": {
   "codemirror_mode": {
    "name": "ipython",
    "version": 3
   },
   "file_extension": ".py",
   "mimetype": "text/x-python",
   "name": "python",
   "nbconvert_exporter": "python",
   "pygments_lexer": "ipython3",
   "version": "3.9.2"
  }
 },
 "nbformat": 4,
 "nbformat_minor": 5
}
