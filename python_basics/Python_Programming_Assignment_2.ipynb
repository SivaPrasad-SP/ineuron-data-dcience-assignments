{
 "cells": [
  {
   "cell_type": "markdown",
   "id": "0b707c1e",
   "metadata": {},
   "source": [
    "#### 1. Write a Python program to convert kilometers to miles ?"
   ]
  },
  {
   "cell_type": "code",
   "execution_count": 10,
   "id": "c6266b24",
   "metadata": {},
   "outputs": [
    {
     "name": "stdout",
     "output_type": "stream",
     "text": [
      "1 kilometer equal to : 0.62 miles\n",
      "25.2 kilometer equal to : 15.75 miles\n"
     ]
    }
   ],
   "source": [
    "# 1 mile = 1.6 kilometer\n",
    "\n",
    "def km_to_miles(kms):\n",
    "    miles = kms/1.6\n",
    "    return round(miles, 2)\n",
    "\n",
    "print(f\"{1} kilometer equal to : {km_to_miles(1)} miles\")\n",
    "print(f\"{25.2} kilometer equal to : {km_to_miles(25.2)} miles\")"
   ]
  },
  {
   "cell_type": "markdown",
   "id": "180627ad",
   "metadata": {},
   "source": [
    "#### 2. Write a Python program to convert Celsius to Fahrenheit ?"
   ]
  },
  {
   "cell_type": "code",
   "execution_count": 25,
   "id": "c2e6527c",
   "metadata": {},
   "outputs": [
    {
     "name": "stdout",
     "output_type": "stream",
     "text": [
      "Enter temperature in celsius : 37\n",
      "37° Celsius is Equal to 98.6° Farenheit\n"
     ]
    }
   ],
   "source": [
    "def celsius_to_fahrenheit(celsius):\n",
    "    farenheit = round((celsius*1.8)+32, 3) # condition to convert celsius_to_fahrenheit\n",
    "    print(f\"{celsius}° Celsius is Equal to {farenheit}° Farenheit\")\n",
    "\n",
    "try:\n",
    "    celsius = int(input(\"Enter temperature in celsius : \"))\n",
    "    celsius_to_fahrenheit(celsius)\n",
    "except:\n",
    "    print(\"Enter valid value for celsius\")"
   ]
  },
  {
   "cell_type": "markdown",
   "id": "65e263db",
   "metadata": {},
   "source": [
    "#### 3. Write a Python program to display calendar ?"
   ]
  },
  {
   "cell_type": "code",
   "execution_count": 44,
   "id": "f2bcfc2b",
   "metadata": {},
   "outputs": [
    {
     "name": "stdout",
     "output_type": "stream",
     "text": [
      "   February 1997\n",
      "Mo Tu We Th Fr Sa Su\n",
      "                1  2\n",
      " 3  4  5  6  7  8  9\n",
      "10 11 12 13 14 15 16\n",
      "17 18 19 20 21 22 23\n",
      "24 25 26 27 28\n",
      "\n"
     ]
    }
   ],
   "source": [
    "import calendar\n",
    "\n",
    "def show_calender(year, month = None):\n",
    "    if isinstance(month, int) and (0 < month < 13):\n",
    "        print(calendar.month(year, month))\n",
    "    elif isinstance(month, int):\n",
    "        print(calendar.calendar(year))\n",
    "    else:\n",
    "        print('The Calender year & month provided are not valid')\n",
    "\n",
    "show_calender(1997, 2)"
   ]
  },
  {
   "cell_type": "markdown",
   "id": "8e081e60",
   "metadata": {},
   "source": [
    "#### 4. Write a Python program to solve quadratic equation ?"
   ]
  },
  {
   "cell_type": "code",
   "execution_count": 83,
   "id": "e97444a9",
   "metadata": {},
   "outputs": [
    {
     "name": "stdout",
     "output_type": "stream",
     "text": [
      "(1.0, -0.8333333333333334) are roots for eq. (6)x^2+(-1)x+(-5)\n",
      "(8.0, -3.0) are roots for eq. (1)x^2+(-5)x+(-24)\n",
      "(-8.242640687119284, 0.24264068711928477) are roots for eq. (-1)x^2+(-8)x+(2)\n",
      "((1.5-2.7838821814150108j), (1.5+2.7838821814150108j)) are roots for eq. (1)x^2+(-3)x+(10)\n"
     ]
    }
   ],
   "source": [
    "import math\n",
    "import cmath\n",
    "\n",
    "a, b, c = 6, -1, -5\n",
    "\n",
    "def solve_quad_eq(a, b, c):\n",
    "    if a and isinstance(a, int):\n",
    "        d = b**2 - (4*a*c)\n",
    "        if d >= 0:\n",
    "            sqrt = math.sqrt(d)\n",
    "            r1 = (-b + sqrt)/(2*a)\n",
    "            r2 = (-b - sqrt)/(2*a)\n",
    "            return f\"({r1}, {r2}) are roots for eq. ({a})x^2+({b})x+({c})\"\n",
    "        else:\n",
    "            c_sqrt = cmath.sqrt(d)\n",
    "            img_r1 = (-b - c_sqrt)/(2 * a)\n",
    "            img_r2 = (-b + c_sqrt)/(2 * a)\n",
    "            return f\"({img_r1}, {img_r2}) are roots for eq. ({a})x^2+({b})x+({c})\"\n",
    "    else:\n",
    "        print('Provide valid quadratic equation coefficients')\n",
    "\n",
    "print(solve_quad_eq(a, b, c))\n",
    "print(solve_quad_eq(1, -5, -24))\n",
    "print(solve_quad_eq(-1, -8, 2))\n",
    "print(solve_quad_eq(1, -3, 10))"
   ]
  },
  {
   "cell_type": "markdown",
   "id": "e3ad1c87",
   "metadata": {},
   "source": [
    "#### 5. Write a Python program to swap two variables without temp variable ?"
   ]
  },
  {
   "cell_type": "code",
   "execution_count": 52,
   "id": "3cf45075",
   "metadata": {},
   "outputs": [
    {
     "name": "stdout",
     "output_type": "stream",
     "text": [
      "Values of a & b, before Swapping  : 4, 5 \n",
      "Values of a & b, after Swapping   : 5, 4 \n",
      "\n",
      "both a & b should be integers for wwapping 2 variables without using Python's inbuilt feature (only for Numbers)\n"
     ]
    }
   ],
   "source": [
    "# in python there is no need of temporary varible\n",
    "a, b = 4, 5\n",
    "print(f\"Values of a & b, before Swapping  : {a}, {b} \")\n",
    "\n",
    "a, b = b, a\n",
    "print(f\"Values of a & b, after Swapping   : {a}, {b} \")\n",
    "\n",
    "# Another way to do this without using Python's inbuilt feature is (works only for Numbers):\n",
    "a = 8\n",
    "b = 5.2\n",
    "\n",
    "if isinstance(a, int) and isinstance(b, int):\n",
    "    print(\"\\nSwapping 2 variables without using Python's inbuilt feature (only for Numbers) : \\n\")\n",
    "\n",
    "    print(f\"Values of a & b, before Swapping  : {a}, {b} \")\n",
    "\n",
    "    a = a+b  # a will be 13\n",
    "    b = a-b  # b will be 8\n",
    "    a = a-b  # a will be 5\n",
    "\n",
    "    print(f\"Values of a & b, after Swapping   : {a}, {b} \")\n",
    "else:\n",
    "    print(\"\\nboth a & b should be integers for swapping 2 variables without using Python's inbuilt feature (only for Numbers)\")"
   ]
  }
 ],
 "metadata": {
  "kernelspec": {
   "display_name": "Python 3 (ipykernel)",
   "language": "python",
   "name": "python3"
  },
  "language_info": {
   "codemirror_mode": {
    "name": "ipython",
    "version": 3
   },
   "file_extension": ".py",
   "mimetype": "text/x-python",
   "name": "python",
   "nbconvert_exporter": "python",
   "pygments_lexer": "ipython3",
   "version": "3.9.2"
  }
 },
 "nbformat": 4,
 "nbformat_minor": 5
}
