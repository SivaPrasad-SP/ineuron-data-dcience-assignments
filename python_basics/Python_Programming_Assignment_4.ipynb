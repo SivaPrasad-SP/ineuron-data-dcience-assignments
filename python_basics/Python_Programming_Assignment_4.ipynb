{
 "cells": [
  {
   "cell_type": "markdown",
   "id": "34f51ef2",
   "metadata": {},
   "source": [
    "#### 1. Write a Python Program to Find the Factorial of a Number?"
   ]
  },
  {
   "cell_type": "code",
   "execution_count": 59,
   "id": "49ae4171",
   "metadata": {},
   "outputs": [
    {
     "name": "stdout",
     "output_type": "stream",
     "text": [
      "enter a positive number (number > 0) : 5\n",
      "Factorial value of 5 is : 120\n"
     ]
    }
   ],
   "source": [
    "def factorial(n):\n",
    "    if n == 1:\n",
    "        return 1\n",
    "    else:\n",
    "        return n*factorial(n-1)\n",
    "\n",
    "num = int(input(\"enter a positive number (number > 0) : \"))\n",
    "print(f\"Factorial value of {num} is : {factorial(num)}\")"
   ]
  },
  {
   "cell_type": "markdown",
   "id": "b142bf49",
   "metadata": {},
   "source": [
    "#### 2. Write a Python Program to Display the multiplication Table?"
   ]
  },
  {
   "cell_type": "code",
   "execution_count": 21,
   "id": "1ee04171",
   "metadata": {},
   "outputs": [
    {
     "name": "stdout",
     "output_type": "stream",
     "text": [
      "5 x 1   = 5\n",
      "5 x 2   = 10\n",
      "5 x 3   = 15\n",
      "5 x 4   = 20\n",
      "5 x 5   = 25\n",
      "5 x 6   = 30\n",
      "5 x 7   = 35\n",
      "5 x 8   = 40\n",
      "5 x 9   = 45\n",
      "5 x 10  = 50\n",
      "5 x 11  = 55\n"
     ]
    }
   ],
   "source": [
    "def mul_tables(num, upto = 12):\n",
    "    for i in range(1, upto):\n",
    "        gap = \" \"*(2 - (i//10))\n",
    "        print(f\"{num} x {i}{gap} = {num*i}\")\n",
    "\n",
    "mul_tables(5, 12)"
   ]
  },
  {
   "cell_type": "markdown",
   "id": "da2ee087",
   "metadata": {},
   "source": [
    "#### 3. Write a Python Program to Print the Fibonacci sequence?"
   ]
  },
  {
   "cell_type": "code",
   "execution_count": 29,
   "id": "a52dddb9",
   "metadata": {},
   "outputs": [
    {
     "name": "stdout",
     "output_type": "stream",
     "text": [
      "0\n",
      "1\n",
      "1\n",
      "2\n",
      "3\n",
      "5\n",
      "8\n",
      "13\n",
      "21\n",
      "34\n"
     ]
    }
   ],
   "source": [
    "def fibonacci(a=0, b=1, r=20):\n",
    "    print(a)\n",
    "    a, b = b, b+a\n",
    "    if a < r:\n",
    "        fibonacci(a, b, r=r)\n",
    "\n",
    "fibonacci(a=0, b=1, r=40)"
   ]
  },
  {
   "cell_type": "markdown",
   "id": "37e7ffb9",
   "metadata": {},
   "source": [
    "#### 4. Write a Python Program to Check Armstrong Number?"
   ]
  },
  {
   "cell_type": "code",
   "execution_count": 60,
   "id": "535280ee",
   "metadata": {},
   "outputs": [
    {
     "name": "stdout",
     "output_type": "stream",
     "text": [
      "371 is armstrong number\n",
      "153 is armstrong number\n",
      "15 is not armstrong number\n"
     ]
    }
   ],
   "source": [
    "def is_armstrong(num):\n",
    "    num_bkp = num\n",
    "    arm_sum = 0\n",
    "    while num > 0:\n",
    "        rem = num%10\n",
    "        num = num//10\n",
    "        arm_sum += rem**3\n",
    "    if arm_sum == num_bkp:\n",
    "        return True\n",
    "    else:\n",
    "        return False\n",
    "\n",
    "# testing is_armstrong function with few values.. \n",
    "\n",
    "for i in [371, 153, 15]:\n",
    "    if is_armstrong(i):\n",
    "        print(f\"{i} is armstrong number\")\n",
    "    else:\n",
    "        print(f\"{i} is not armstrong number\")"
   ]
  },
  {
   "cell_type": "markdown",
   "id": "bbe39e9c",
   "metadata": {},
   "source": [
    "#### 5. Write a Python Program to Find Armstrong Number in an Interval ?"
   ]
  },
  {
   "cell_type": "code",
   "execution_count": 61,
   "id": "bd2e2477",
   "metadata": {},
   "outputs": [
    {
     "name": "stdout",
     "output_type": "stream",
     "text": [
      "1 is armstrong number\n",
      "153 is armstrong number\n",
      "370 is armstrong number\n",
      "371 is armstrong number\n"
     ]
    }
   ],
   "source": [
    "start = 1\n",
    "end = 400\n",
    "\n",
    "for i in range(start, end):\n",
    "    if is_armstrong(i):\n",
    "        print(f\"{i} is armstrong number\")"
   ]
  },
  {
   "cell_type": "markdown",
   "id": "19627259",
   "metadata": {},
   "source": [
    "#### 6. Write a Python Program to Find the Sum of Natural Numbers ?"
   ]
  },
  {
   "cell_type": "code",
   "execution_count": 43,
   "id": "76f405ff",
   "metadata": {},
   "outputs": [
    {
     "data": {
      "text/plain": [
       "'Sum of numbers between 2 & 10 is : 54'"
      ]
     },
     "execution_count": 43,
     "metadata": {},
     "output_type": "execute_result"
    }
   ],
   "source": [
    "# as per arithematic progression, the sum of n sequence numbers is (n/2)(start+end)\n",
    "\n",
    "def sum_of_numbers(start, end):\n",
    "    n = end - start + 1\n",
    "    sum_ = (n/2)*(start + end)\n",
    "    return int(sum_)\n",
    "\n",
    "start = 2\n",
    "end = 10\n",
    "\n",
    "f\"Sum of numbers between {start} & {end} is : {sum_of_numbers(start, end)}\""
   ]
  }
 ],
 "metadata": {
  "kernelspec": {
   "display_name": "Python 3 (ipykernel)",
   "language": "python",
   "name": "python3"
  },
  "language_info": {
   "codemirror_mode": {
    "name": "ipython",
    "version": 3
   },
   "file_extension": ".py",
   "mimetype": "text/x-python",
   "name": "python",
   "nbconvert_exporter": "python",
   "pygments_lexer": "ipython3",
   "version": "3.9.2"
  }
 },
 "nbformat": 4,
 "nbformat_minor": 5
}
