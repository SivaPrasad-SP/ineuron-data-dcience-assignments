{
 "cells": [
  {
   "cell_type": "markdown",
   "id": "15a241e6",
   "metadata": {},
   "source": [
    "#### 1. Write a Python Program to Find LCM?"
   ]
  },
  {
   "cell_type": "code",
   "execution_count": 94,
   "id": "33d441cc",
   "metadata": {},
   "outputs": [
    {
     "data": {
      "text/plain": [
       "'LCM of 12, 9 is : 36'"
      ]
     },
     "execution_count": 94,
     "metadata": {},
     "output_type": "execute_result"
    }
   ],
   "source": [
    "# as per the math rules..\n",
    "# for any numbers..\n",
    "# a x b = LCM(a,b,..) x HCF(a,b,..)\n",
    "\n",
    "a = 9\n",
    "b = 12\n",
    "\n",
    "def hcf(num1, num2):\n",
    "    a = max(num1, num2)\n",
    "    b = num1 if num1 != a else num2\n",
    "    \n",
    "    while rem := a%b:\n",
    "        a, b = b, rem\n",
    "    else:\n",
    "        return b\n",
    "\n",
    "def lcm(a, b):\n",
    "    hcf_ = hcf(a, b)\n",
    "    lcm_ = int((a*b)/hcf_)\n",
    "    return lcm_\n",
    "\n",
    "a, b = 12, 9\n",
    "\n",
    "f\"LCM of {a}, {b} is : {lcm(9, 12)}\""
   ]
  },
  {
   "cell_type": "markdown",
   "id": "78875fd1",
   "metadata": {},
   "source": [
    "#### 2. Write a Python Program to Find HCF?"
   ]
  },
  {
   "cell_type": "code",
   "execution_count": 95,
   "id": "39d7d913",
   "metadata": {},
   "outputs": [
    {
     "data": {
      "text/plain": [
       "'HCF of 512, 768 is : 256'"
      ]
     },
     "execution_count": 95,
     "metadata": {},
     "output_type": "execute_result"
    }
   ],
   "source": [
    "def hcf(num1, num2):\n",
    "    a = max(num1, num2)\n",
    "    b = num1 if num1 != a else num2\n",
    "    \n",
    "    while rem := a%b:\n",
    "        a, b = b, rem\n",
    "    else:\n",
    "        return b\n",
    "\n",
    "a, b = 512, 768\n",
    "\n",
    "f\"HCF of {a}, {b} is : {hcf(a, b)}\""
   ]
  },
  {
   "cell_type": "markdown",
   "id": "1684b2c5",
   "metadata": {},
   "source": [
    "#### 3. Write a Python Program to Convert Decimal to Binary, Octal and Hexadecimal?"
   ]
  },
  {
   "cell_type": "code",
   "execution_count": 102,
   "id": "4f563bcb",
   "metadata": {},
   "outputs": [
    {
     "name": "stdout",
     "output_type": "stream",
     "text": [
      "Enter a Number: 10\n",
      " => Decimal to Binary : 0b1010\n",
      " => Decimal to Octal : 0o12\n",
      " => Decimal to Hexadecimal : 0xa\n"
     ]
    }
   ],
   "source": [
    "def decimal_to_bin_oct_hex(num):\n",
    "    print(f\" => Decimal to Binary : {bin(num)}\")\n",
    "    print(f\" => Decimal to Octal : {oct(num)}\")    \n",
    "    print(f\" => Decimal to Hexadecimal : {hex(num)}\")\n",
    "\n",
    "num = int(input('Enter a Number: '))\n",
    "\n",
    "decimal_to_bin_oct_hex(num)"
   ]
  },
  {
   "cell_type": "markdown",
   "id": "f9d27e76",
   "metadata": {},
   "source": [
    "#### 4. Write a Python Program To Find ASCII value of a character?"
   ]
  },
  {
   "cell_type": "code",
   "execution_count": 19,
   "id": "31978b62",
   "metadata": {},
   "outputs": [
    {
     "name": "stdout",
     "output_type": "stream",
     "text": [
      " => the ASCII value of `A` is : 65\n",
      " => please enter single character only, `re` is not listed in ASCII\n",
      " => the ASCII value of `Ã` is : 195\n"
     ]
    }
   ],
   "source": [
    "def get_ascii(char):\n",
    "    if len(char) == 1:\n",
    "        print(f\" => the ASCII value of `{char}` is : {ord(char)}\")\n",
    "    else:\n",
    "        print(f\" => please enter single character only, `{char}` is not listed in ASCII\")\n",
    "\n",
    "get_ascii('A')\n",
    "get_ascii('re')\n",
    "get_ascii('Ã')"
   ]
  },
  {
   "cell_type": "markdown",
   "id": "218f110c",
   "metadata": {},
   "source": [
    "#### 5. Write a Python Program to Make a Simple Calculator with 4 basic mathematical operations ? "
   ]
  },
  {
   "cell_type": "code",
   "execution_count": 4,
   "id": "e08a267b",
   "metadata": {},
   "outputs": [
    {
     "name": "stdout",
     "output_type": "stream",
     "text": [
      "Enter Operator : *\n",
      "Enter operand(s) : 5\n",
      "Enter operand(s) : 4\n",
      "Enter operand(s) : 2\n",
      "Enter operand(s) : f\n"
     ]
    },
    {
     "data": {
      "text/plain": [
       "('The Result is : ', 40)"
      ]
     },
     "execution_count": 4,
     "metadata": {},
     "output_type": "execute_result"
    }
   ],
   "source": [
    "# This code works for any number of operands, the input accepts any number of valid operands(int or float), provide atleast 2.\n",
    "# Type any string in input to stop giving operands.\n",
    "\n",
    "def evaluate(operator, operands):\n",
    "    if len(operands) > 1:\n",
    "        result = operands[0]\n",
    "        for i in operands[1:]:\n",
    "            if operator == '+':\n",
    "                result += i\n",
    "            elif operator == '-':\n",
    "                result -= i\n",
    "            elif operator == '*':\n",
    "                result *= i\n",
    "            elif operator == '/':\n",
    "                result /= i\n",
    "            else:\n",
    "                return \"Provide valid Operator\"\n",
    "        return result\n",
    "    else:\n",
    "        return \"Provide atleast 2 Operands\"\n",
    "\n",
    "# accept input & try the above function\n",
    "\n",
    "operator = input(\"Enter Operator : \")\n",
    "\n",
    "input_nums = []\n",
    "\n",
    "while num := input(\"Enter operand(s) : \"):\n",
    "    try:\n",
    "        input_nums.append(int(num))\n",
    "    except:\n",
    "        try:\n",
    "            input_nums.append(float(num))\n",
    "        except:\n",
    "            break\n",
    "\n",
    "\"The Result is : \", evaluate(operator, input_nums)"
   ]
  }
 ],
 "metadata": {
  "kernelspec": {
   "display_name": "Python 3 (ipykernel)",
   "language": "python",
   "name": "python3"
  },
  "language_info": {
   "codemirror_mode": {
    "name": "ipython",
    "version": 3
   },
   "file_extension": ".py",
   "mimetype": "text/x-python",
   "name": "python",
   "nbconvert_exporter": "python",
   "pygments_lexer": "ipython3",
   "version": "3.9.2"
  }
 },
 "nbformat": 4,
 "nbformat_minor": 5
}
