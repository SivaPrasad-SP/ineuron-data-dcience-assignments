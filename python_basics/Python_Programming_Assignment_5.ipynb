{
 "cells": [
  {
   "cell_type": "markdown",
   "id": "5c1283d2",
   "metadata": {},
   "source": [
    "#### 1. Write a Python Program to Find LCM?"
   ]
  },
  {
   "cell_type": "code",
   "execution_count": 10,
   "id": "528ad80c",
   "metadata": {},
   "outputs": [
    {
     "data": {
      "text/plain": [
       "'LCM of 12, 9 is : 36'"
      ]
     },
     "execution_count": 10,
     "metadata": {},
     "output_type": "execute_result"
    }
   ],
   "source": [
    "# LCM of 2 numbers\n",
    "# get the maximum number, if it is divisible by other number then the max_number is LCM\n",
    "# else, keep increasing the max_number until it is divisible by both numbers.\n",
    "\n",
    "def lcm(a, b):\n",
    "    max_num = max(a, b)\n",
    "    \n",
    "    while (max_num % a) or (max_num % b):\n",
    "        max_num += 1\n",
    "    \n",
    "    return max_num\n",
    "\n",
    "a, b = 12, 9\n",
    "# a,b = 24, 48\n",
    "# a,b = 768, 512\n",
    "\n",
    "f\"LCM of {a}, {b} is : {lcm(a, b)}\""
   ]
  },
  {
   "cell_type": "markdown",
   "id": "311433b2",
   "metadata": {},
   "source": [
    "* the LCM function can be extended to multi value LCM (more than 2 numbers) using functools : reduce"
   ]
  },
  {
   "cell_type": "code",
   "execution_count": 16,
   "id": "74f1e777",
   "metadata": {},
   "outputs": [
    {
     "data": {
      "text/plain": [
       "'LCM of given list [1, 2, 3, 4, 5] is : 60'"
      ]
     },
     "execution_count": 16,
     "metadata": {},
     "output_type": "execute_result"
    }
   ],
   "source": [
    "from functools import reduce\n",
    "\n",
    "# functools.reduce function accept a function and an iterable, each time the function is called the result of previous function..\n",
    "# .. is fed to the next function. It is well suitable for finding LCM in the case of more than 2 numbers.\n",
    "\n",
    "def lcm_extended(num_list):\n",
    "    return reduce(lambda x,y : lcm(x,y), num_list)\n",
    "\n",
    "num_list = [1, 2, 3, 4, 5]\n",
    "\n",
    "f\"LCM of given list {num_list} is : {lcm_extended(num_list)}\""
   ]
  },
  {
   "cell_type": "markdown",
   "id": "05d14d3b",
   "metadata": {},
   "source": [
    "#### 2. Write a Python Program to Find HCF?"
   ]
  },
  {
   "cell_type": "code",
   "execution_count": 15,
   "id": "61cd7f16",
   "metadata": {},
   "outputs": [
    {
     "data": {
      "text/plain": [
       "'HCF of 12, 9 is : 3'"
      ]
     },
     "execution_count": 15,
     "metadata": {},
     "output_type": "execute_result"
    }
   ],
   "source": [
    "# as per the math..\n",
    "# for any numbers..\n",
    "# HCF(a,b,..) = a x b // LCM(a,b,..)\n",
    "\n",
    "def hcf(num1, num2):\n",
    "    hcf_ = (a*b)//(lcm(a,b))\n",
    "    return hcf_\n",
    "\n",
    "a, b = 12, 9\n",
    "# a, b = 512, 768\n",
    "\n",
    "f\"HCF of {a}, {b} is : {hcf(a, b)}\""
   ]
  },
  {
   "cell_type": "code",
   "execution_count": 95,
   "id": "f1dad6f5",
   "metadata": {},
   "outputs": [
    {
     "data": {
      "text/plain": [
       "'HCF of 512, 768 is : 256'"
      ]
     },
     "execution_count": 95,
     "metadata": {},
     "output_type": "execute_result"
    }
   ],
   "source": [
    "def hcf(num1, num2):\n",
    "    a = max(num1, num2)\n",
    "    b = num1 if num1 != a else num2\n",
    "    \n",
    "    while rem := a%b:\n",
    "        a, b = b, rem\n",
    "    else:\n",
    "        return b\n",
    "\n",
    "a, b = 512, 768\n",
    "\n",
    "f\"HCF of {a}, {b} is : {hcf(a, b)}\""
   ]
  },
  {
   "cell_type": "markdown",
   "id": "0ff46d79",
   "metadata": {},
   "source": [
    "#### 3. Write a Python Program to Convert Decimal to Binary, Octal and Hexadecimal?"
   ]
  },
  {
   "cell_type": "code",
   "execution_count": 102,
   "id": "7646709d",
   "metadata": {},
   "outputs": [
    {
     "name": "stdout",
     "output_type": "stream",
     "text": [
      "Enter a Number: 10\n",
      " => Decimal to Binary : 0b1010\n",
      " => Decimal to Octal : 0o12\n",
      " => Decimal to Hexadecimal : 0xa\n"
     ]
    }
   ],
   "source": [
    "def decimal_to_bin_oct_hex(num):\n",
    "    print(f\" => Decimal to Binary : {bin(num)}\")\n",
    "    print(f\" => Decimal to Octal : {oct(num)}\")    \n",
    "    print(f\" => Decimal to Hexadecimal : {hex(num)}\")\n",
    "\n",
    "num = int(input('Enter a Number: '))\n",
    "\n",
    "decimal_to_bin_oct_hex(num)"
   ]
  },
  {
   "cell_type": "markdown",
   "id": "4237435d",
   "metadata": {},
   "source": [
    "#### 4. Write a Python Program To Find ASCII value of a character?"
   ]
  },
  {
   "cell_type": "code",
   "execution_count": 19,
   "id": "b22e904b",
   "metadata": {},
   "outputs": [
    {
     "name": "stdout",
     "output_type": "stream",
     "text": [
      " => the ASCII value of `A` is : 65\n",
      " => please enter single character only, `re` is not listed in ASCII\n",
      " => the ASCII value of `Ã` is : 195\n"
     ]
    }
   ],
   "source": [
    "def get_ascii(char):\n",
    "    if len(char) == 1:\n",
    "        print(f\" => the ASCII value of `{char}` is : {ord(char)}\")\n",
    "    else:\n",
    "        print(f\" => please enter single character only, `{char}` is not listed in ASCII\")\n",
    "\n",
    "get_ascii('A')\n",
    "get_ascii('re')\n",
    "get_ascii('Ã')"
   ]
  },
  {
   "cell_type": "markdown",
   "id": "95fad8f7",
   "metadata": {},
   "source": [
    "#### 5. Write a Python Program to Make a Simple Calculator with 4 basic mathematical operations ? "
   ]
  },
  {
   "cell_type": "code",
   "execution_count": 4,
   "id": "6cff1739",
   "metadata": {},
   "outputs": [
    {
     "name": "stdout",
     "output_type": "stream",
     "text": [
      "Enter Operator : *\n",
      "Enter operand(s) : 5\n",
      "Enter operand(s) : 4\n",
      "Enter operand(s) : 2\n",
      "Enter operand(s) : f\n"
     ]
    },
    {
     "data": {
      "text/plain": [
       "('The Result is : ', 40)"
      ]
     },
     "execution_count": 4,
     "metadata": {},
     "output_type": "execute_result"
    }
   ],
   "source": [
    "# This code works for any number of operands, the input accepts any number of valid operands(int or float), provide atleast 2.\n",
    "# Type any string in input to stop giving operands.\n",
    "\n",
    "def evaluate(operator, operands):\n",
    "    if len(operands) > 1:\n",
    "        result = operands[0]\n",
    "        for i in operands[1:]:\n",
    "            if operator == '+':\n",
    "                result += i\n",
    "            elif operator == '-':\n",
    "                result -= i\n",
    "            elif operator == '*':\n",
    "                result *= i\n",
    "            elif operator == '/':\n",
    "                result /= i\n",
    "            else:\n",
    "                return \"Provide valid Operator\"\n",
    "        return result\n",
    "    else:\n",
    "        return \"Provide atleast 2 Operands\"\n",
    "\n",
    "# accept input & try the above function\n",
    "\n",
    "operator = input(\"Enter Operator : \")\n",
    "\n",
    "input_nums = []\n",
    "\n",
    "while num := input(\"Enter operand(s) : \"):\n",
    "    try:\n",
    "        input_nums.append(int(num))\n",
    "    except:\n",
    "        try:\n",
    "            input_nums.append(float(num))\n",
    "        except:\n",
    "            break\n",
    "\n",
    "\"The Result is : \", evaluate(operator, input_nums)"
   ]
  }
 ],
 "metadata": {
  "kernelspec": {
   "display_name": "Python 3 (ipykernel)",
   "language": "python",
   "name": "python3"
  },
  "language_info": {
   "codemirror_mode": {
    "name": "ipython",
    "version": 3
   },
   "file_extension": ".py",
   "mimetype": "text/x-python",
   "name": "python",
   "nbconvert_exporter": "python",
   "pygments_lexer": "ipython3",
   "version": "3.9.2"
  }
 },
 "nbformat": 4,
 "nbformat_minor": 5
}
