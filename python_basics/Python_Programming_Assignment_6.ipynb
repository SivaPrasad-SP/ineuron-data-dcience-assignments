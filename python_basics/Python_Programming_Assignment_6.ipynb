{
 "cells": [
  {
   "cell_type": "markdown",
   "id": "8d12dc33",
   "metadata": {},
   "source": [
    "#### 1. Write a Python Program to Display Fibonacci Sequence Using Recursion ?"
   ]
  },
  {
   "cell_type": "code",
   "execution_count": 1,
   "id": "31ec0be5",
   "metadata": {},
   "outputs": [
    {
     "name": "stdout",
     "output_type": "stream",
     "text": [
      "0\n",
      "1\n",
      "1\n",
      "2\n",
      "3\n",
      "5\n",
      "8\n",
      "13\n",
      "21\n",
      "34\n"
     ]
    }
   ],
   "source": [
    "def fibonacci(a=0, b=1, r=20):\n",
    "    print(a)\n",
    "    a, b = b, b+a\n",
    "    if a < r:\n",
    "        fibonacci(a, b, r=r)\n",
    "\n",
    "fibonacci(a=0, b=1, r=40)"
   ]
  },
  {
   "cell_type": "markdown",
   "id": "98458131",
   "metadata": {},
   "source": [
    "#### 2. Write a Python Program to Find Factorial of Number Using Recursion ?"
   ]
  },
  {
   "cell_type": "code",
   "execution_count": 2,
   "id": "5aedf780",
   "metadata": {},
   "outputs": [
    {
     "name": "stdout",
     "output_type": "stream",
     "text": [
      "enter a positive number (number > 0) : 6\n",
      "Factorial value of 6 is : 720\n"
     ]
    }
   ],
   "source": [
    "def factorial(n):\n",
    "    if n == 1:\n",
    "        return 1\n",
    "    else:\n",
    "        return n*factorial(n-1)\n",
    "\n",
    "num = int(input(\"enter a positive number (number > 0) : \"))\n",
    "print(f\"Factorial value of {num} is : {factorial(num)}\")"
   ]
  },
  {
   "cell_type": "markdown",
   "id": "74efda6b",
   "metadata": {},
   "source": [
    "#### 3. Write a Python Program to calculate your Body Mass Index ?"
   ]
  },
  {
   "cell_type": "code",
   "execution_count": 15,
   "id": "37668fbb",
   "metadata": {},
   "outputs": [
    {
     "name": "stdout",
     "output_type": "stream",
     "text": [
      "Enter your Weight(in KGs): 72\n",
      "Enter your Height(in centi meters): 179\n",
      "=> Body Mass Index for Weight 72 kg & Height 1.79 mts is : `22.47` and result is `Normal`\n"
     ]
    }
   ],
   "source": [
    "def calculate_BMI(weight, height):\n",
    "    height /= 100  # converting to meter\n",
    "    bmi = round(weight/(height**2), 2)\n",
    "    if (bmi < 18.5):\n",
    "        result = 'Under Weight'\n",
    "    elif (18.5 < bmi < 24.9):\n",
    "        result = 'Normal'\n",
    "    elif (24.9 < bmi < 30):\n",
    "        result = 'Over Weight'\n",
    "    elif (bmi >=30):\n",
    "        result = 'Obesity'\n",
    "    print(f\"=> Body Mass Index for Weight {weight} kg & Height {height} mts is : `{bmi}` and result is `{result}`\")\n",
    "\n",
    "weight = eval(input('Enter your Weight(in KGs): '))\n",
    "height = eval(input('Enter your Height(in centi meters): '))\n",
    "\n",
    "calculate_BMI(weight, height)"
   ]
  },
  {
   "cell_type": "markdown",
   "id": "31c9a113",
   "metadata": {},
   "source": [
    "#### 4. Write a Python Program to calculate the natural logarithm of any number ?"
   ]
  },
  {
   "cell_type": "code",
   "execution_count": 29,
   "id": "5d7d40cb",
   "metadata": {},
   "outputs": [
    {
     "name": "stdout",
     "output_type": "stream",
     "text": [
      "log value of 1000 is : 2.9999999999999996\n"
     ]
    }
   ],
   "source": [
    "import math\n",
    "\n",
    "def log_of(num, base=2.718):\n",
    "    return math.log(num, base)\n",
    "\n",
    "# print(log_of(32, 2))  # 5\n",
    "# print(log_of(14))     # 2.6393309867246715\n",
    "\n",
    "num = 1000\n",
    "base = 10  # optional\n",
    "\n",
    "print(f\"log value of {num} is : {log_of(num, base)}\")"
   ]
  },
  {
   "cell_type": "markdown",
   "id": "b4233cc8",
   "metadata": {},
   "source": [
    "#### 5. Write a Python Program for cube sum of first n natural numbers ?"
   ]
  },
  {
   "cell_type": "markdown",
   "id": "c14a74ad",
   "metadata": {},
   "source": [
    "* The sum of cubes of n natural numbers means finding the sum of a series of cubes of natural numbers. It can be obtained by using a simple formula S = [n^2 (n + 1)^2]/4, where S is the sum and n is the number of natural numbers taken."
   ]
  },
  {
   "cell_type": "code",
   "execution_count": 36,
   "id": "44893552",
   "metadata": {},
   "outputs": [
    {
     "name": "stdout",
     "output_type": "stream",
     "text": [
      "The Cube sum of first 3 numbers is 36\n",
      "The Cube sum of first 10 numbers is 3025\n"
     ]
    }
   ],
   "source": [
    "def cube_sum(n):\n",
    "    sum_ = ((n**2)*((n+1)**2))/4\n",
    "    return int(sum_)\n",
    "\n",
    "print(f\"The Cube sum of first 3 numbers is {cube_sum(3)}\")\n",
    "print(f\"The Cube sum of first 10 numbers is {cube_sum(10)}\")"
   ]
  }
 ],
 "metadata": {
  "kernelspec": {
   "display_name": "Python 3 (ipykernel)",
   "language": "python",
   "name": "python3"
  },
  "language_info": {
   "codemirror_mode": {
    "name": "ipython",
    "version": 3
   },
   "file_extension": ".py",
   "mimetype": "text/x-python",
   "name": "python",
   "nbconvert_exporter": "python",
   "pygments_lexer": "ipython3",
   "version": "3.9.2"
  }
 },
 "nbformat": 4,
 "nbformat_minor": 5
}
