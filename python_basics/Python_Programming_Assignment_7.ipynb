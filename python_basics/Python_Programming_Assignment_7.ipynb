{
 "cells": [
  {
   "cell_type": "markdown",
   "id": "ff9288ee",
   "metadata": {},
   "source": [
    "#### 1. Write a Python Program to find sum of array ?"
   ]
  },
  {
   "cell_type": "code",
   "execution_count": 8,
   "id": "0f5e2958",
   "metadata": {},
   "outputs": [
    {
     "data": {
      "text/plain": [
       "'Sum of elements of an array [1, 2, 3] is 6'"
      ]
     },
     "execution_count": 8,
     "metadata": {},
     "output_type": "execute_result"
    }
   ],
   "source": [
    "arr = [1, 2, 3]\n",
    "\n",
    "f\"Sum of elements of an array {arr} is {sum(arr)}\""
   ]
  },
  {
   "cell_type": "markdown",
   "id": "84287283",
   "metadata": {},
   "source": [
    "#### 2. Write a Python Program to find largest element in an array ?"
   ]
  },
  {
   "cell_type": "code",
   "execution_count": 10,
   "id": "a3ad60a6",
   "metadata": {},
   "outputs": [
    {
     "data": {
      "text/plain": [
       "'Largest element of an array [1, 4, 3, 8, 5] is 8'"
      ]
     },
     "execution_count": 10,
     "metadata": {},
     "output_type": "execute_result"
    }
   ],
   "source": [
    "arr = [1, 4, 3, 8, 5]\n",
    "\n",
    "f\"Largest element of an array {arr} is {max(arr)}\""
   ]
  },
  {
   "cell_type": "markdown",
   "id": "6581fc1d",
   "metadata": {},
   "source": [
    "#### 3. Write a Python Program for array rotation ?"
   ]
  },
  {
   "cell_type": "code",
   "execution_count": 20,
   "id": "1a00d008",
   "metadata": {},
   "outputs": [
    {
     "data": {
      "text/plain": [
       "'reverse of an array [1, 4, 3, 8, 5] is [5, 8, 3, 4, 1]'"
      ]
     },
     "execution_count": 20,
     "metadata": {},
     "output_type": "execute_result"
    }
   ],
   "source": [
    "# reverse of an array\n",
    "\n",
    "arr = [1, 4, 3, 8, 5]\n",
    "\n",
    "reverse = arr[::-1] # ~ arr[-1:-6:-1] # it starts from last element, as the step is -1, the index goes in reverse order.\n",
    "f\"reverse of an array {arr} is {reverse}\""
   ]
  },
  {
   "cell_type": "markdown",
   "id": "456994a7",
   "metadata": {},
   "source": [
    "#### 4. Write a Python Program to Split the array and add the first part to the end ?"
   ]
  },
  {
   "cell_type": "code",
   "execution_count": 25,
   "id": "df1f76c4",
   "metadata": {},
   "outputs": [
    {
     "data": {
      "text/plain": [
       "'After splitting the array at index 2, and adding the first part to the end of second, the result is : [3, 8, 5, 1, 4]'"
      ]
     },
     "execution_count": 25,
     "metadata": {},
     "output_type": "execute_result"
    }
   ],
   "source": [
    "arr = [1, 4, 3, 8, 5]\n",
    "\n",
    "def split_add(arr, idx):\n",
    "    first_part = arr[:idx]\n",
    "    second_part = arr[idx:]\n",
    "    return (second_part + first_part)\n",
    "\n",
    "split_index = 2\n",
    "\n",
    "result = split_add(arr, split_index)\n",
    "\n",
    "f\"After splitting the array at index {split_index}, and adding the first part to the end of second, the result is : {result}\""
   ]
  },
  {
   "cell_type": "markdown",
   "id": "e3ad4076",
   "metadata": {},
   "source": [
    "#### 5. Write a Python Program to check if given array is Monotonic ?"
   ]
  },
  {
   "cell_type": "code",
   "execution_count": 71,
   "id": "0e50b1ab",
   "metadata": {},
   "outputs": [
    {
     "name": "stdout",
     "output_type": "stream",
     "text": [
      "The array [1, 3, 4, 6, 7] is Monotonic\n",
      "The array [2, 4, 5, 7, 5] is not Monotonic\n",
      "The array [8, 5, 4, 3, 3] is Monotonic\n",
      "The array [7, 2, 3, 5, 7] is not Monotonic\n"
     ]
    }
   ],
   "source": [
    "# Monotonic : An array is monotonic if it is either increasing or decreasing in any direction.\n",
    "\n",
    "def is_monotonic(arr):\n",
    "    # if array equal to its sorted form, either straight or reversed, it is monotonic\n",
    "    \n",
    "    if arr in (sorted(arr), sorted(arr, reverse=True)):\n",
    "        return \"Monotonic\"\n",
    "    return \"not Monotonic\"\n",
    "\n",
    "list_of_arrays = [\n",
    "    [1, 3, 4, 6, 7],\n",
    "    [2, 4, 5, 7, 5],\n",
    "    [8, 5, 4, 3, 3],\n",
    "    [7, 2, 3, 5, 7]\n",
    "]\n",
    "\n",
    "for arr in list_of_arrays:\n",
    "    print(f\"The array {arr} is {is_monotonic(arr)}\")"
   ]
  }
 ],
 "metadata": {
  "kernelspec": {
   "display_name": "Python 3 (ipykernel)",
   "language": "python",
   "name": "python3"
  },
  "language_info": {
   "codemirror_mode": {
    "name": "ipython",
    "version": 3
   },
   "file_extension": ".py",
   "mimetype": "text/x-python",
   "name": "python",
   "nbconvert_exporter": "python",
   "pygments_lexer": "ipython3",
   "version": "3.9.2"
  }
 },
 "nbformat": 4,
 "nbformat_minor": 5
}
