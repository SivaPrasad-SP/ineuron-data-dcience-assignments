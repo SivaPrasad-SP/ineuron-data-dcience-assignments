{
 "cells": [
  {
   "cell_type": "markdown",
   "id": "95e22e1d",
   "metadata": {},
   "source": [
    "#### Q1. Write a Python Program to Add two Matrices ?"
   ]
  },
  {
   "cell_type": "code",
   "execution_count": 1,
   "id": "bc850f32",
   "metadata": {},
   "outputs": [
    {
     "data": {
      "text/plain": [
       "[[3, 5], [7, 9]]"
      ]
     },
     "execution_count": 1,
     "metadata": {},
     "output_type": "execute_result"
    }
   ],
   "source": [
    "# The addition of 2 matrices can be done only if their shape is same.\n",
    "\n",
    "import numpy as np\n",
    "\n",
    "def matrix_additon(A, B):\n",
    "    if np.array(A).shape == np.array(B).shape:\n",
    "        sum_ = []\n",
    "        for i,j in zip(A,B):\n",
    "            temp = []\n",
    "            for ii, jj in zip(i,j):\n",
    "                temp.append(ii + jj)\n",
    "            sum_.append(temp)\n",
    "        return sum_\n",
    "    else:\n",
    "        print('Both Matrices should have same shape')\n",
    "\n",
    "A = [[1,2],[3,4]]\n",
    "B = [[2,3],[4,5]]\n",
    "\n",
    "matrix_additon(A, B)"
   ]
  },
  {
   "cell_type": "markdown",
   "id": "34c1f894",
   "metadata": {},
   "source": [
    "#### Q2. Write a Python Program to Multiply two Matrices ?"
   ]
  },
  {
   "cell_type": "code",
   "execution_count": 5,
   "id": "83d7d04a",
   "metadata": {},
   "outputs": [
    {
     "data": {
      "text/plain": [
       "[[10, 13], [22, 29]]"
      ]
     },
     "execution_count": 5,
     "metadata": {},
     "output_type": "execute_result"
    }
   ],
   "source": [
    "# The addition of 2 matrices can be done only if their shape is same.\n",
    "\n",
    "import numpy as np\n",
    "\n",
    "def matrix_multiplication(A, B):\n",
    "    try:\n",
    "        A_rows, A_cols = len(A), len(A[0])\n",
    "        B_rows, B_cols = len(B),len(B[0])\n",
    "        if A_cols == B_rows:\n",
    "            sum_ = []\n",
    "            for i in range(A_rows):\n",
    "                temp = []\n",
    "                for r in range(B_cols):\n",
    "                    temp_sum = 0\n",
    "                    for j in range(A_cols):\n",
    "                        temp_sum += A[i][j]*B[j][r]\n",
    "                    temp.append(temp_sum)\n",
    "                sum_.append(temp)\n",
    "            return sum_\n",
    "        else:\n",
    "            print('Both Matrices should have valid shape')\n",
    "    except BaseException as e:\n",
    "        print(\"Provide valid matrices\"+str(e))\n",
    "\n",
    "A = [[1,2],[3,4]]\n",
    "B = [[2,3],[4,5]]\n",
    "\n",
    "matrix_multiplication(A, B)"
   ]
  },
  {
   "cell_type": "markdown",
   "id": "692cc313",
   "metadata": {},
   "source": [
    "#### Q3. Write a Python Program to transpose a Matrix ?"
   ]
  },
  {
   "cell_type": "code",
   "execution_count": 38,
   "id": "b65b014b",
   "metadata": {},
   "outputs": [
    {
     "name": "stdout",
     "output_type": "stream",
     "text": [
      "Transpose of A : [[1, 4], [2, 5], [3, 6]]\n"
     ]
    }
   ],
   "source": [
    "import numpy as np\n",
    "\n",
    "transpose = []\n",
    "\n",
    "A = np.array([[1,2,3],[4,5,6]])\n",
    "\n",
    "try:\n",
    "    rows, cols = A.shape\n",
    "    for i in range(cols):\n",
    "        temp = []\n",
    "        for j in range(rows):\n",
    "            temp.append(A[j][i])\n",
    "        transpose.append(temp)\n",
    "    print(f\"Transpose of A : {transpose}\")\n",
    "except:\n",
    "    print(\"Provide valid matrix for transpose\")"
   ]
  },
  {
   "cell_type": "markdown",
   "id": "30e77374",
   "metadata": {},
   "source": [
    "#### Q4. Write a Python Program to sort Words in an Alphabatical Order ?"
   ]
  },
  {
   "cell_type": "code",
   "execution_count": 26,
   "id": "3bdae044",
   "metadata": {},
   "outputs": [
    {
     "name": "stdout",
     "output_type": "stream",
     "text": [
      "Sorted Text : `any body can dance`\n"
     ]
    }
   ],
   "source": [
    "text = \"can any body dance\"\n",
    "words = text.split(\" \")\n",
    "\n",
    "words.sort()\n",
    "\n",
    "sorted_text = \" \".join(words)\n",
    "print(f\"Sorted Text : `{sorted_text}`\")"
   ]
  },
  {
   "cell_type": "markdown",
   "id": "b3060a58",
   "metadata": {},
   "source": [
    "#### Q5. Write a Python Program to remove Punctuations From a String ?"
   ]
  },
  {
   "cell_type": "code",
   "execution_count": 24,
   "id": "20a74473",
   "metadata": {},
   "outputs": [
    {
     "name": "stdout",
     "output_type": "stream",
     "text": [
      "Text after removing Punctuations : `my email is  test mail com `\n"
     ]
    }
   ],
   "source": [
    "punctuations = \"\"\",!:?;'\"\"'`.-~[{()}]|\\/*@!#$%^&\"\"\"\n",
    "\n",
    "text = 'my email is \"test@mail.com\"'\n",
    "\n",
    "neat_text = \"\"\n",
    "for char in text:\n",
    "    if char in punctuations:\n",
    "        neat_text += \" \"\n",
    "    else:\n",
    "        neat_text += char\n",
    "print(f\"Text after removing Punctuations : `{neat_text}`\")"
   ]
  }
 ],
 "metadata": {
  "kernelspec": {
   "display_name": "Python 3 (ipykernel)",
   "language": "python",
   "name": "python3"
  },
  "language_info": {
   "codemirror_mode": {
    "name": "ipython",
    "version": 3
   },
   "file_extension": ".py",
   "mimetype": "text/x-python",
   "name": "python",
   "nbconvert_exporter": "python",
   "pygments_lexer": "ipython3",
   "version": "3.10.7"
  }
 },
 "nbformat": 4,
 "nbformat_minor": 5
}
